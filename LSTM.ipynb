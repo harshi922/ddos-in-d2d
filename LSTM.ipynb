{
  "cells": [
    {
      "cell_type": "code",
      "source": [
        "from google.colab import drive\n",
        "\n",
        "drive.mount('/content/drive')"
      ],
      "metadata": {
        "colab": {
          "base_uri": "https://localhost:8080/"
        },
        "id": "e0tt0wB8b_Qf",
        "outputId": "0eefdb18-ce17-4722-c851-6f15aac03033"
      },
      "id": "e0tt0wB8b_Qf",
      "execution_count": null,
      "outputs": [
        {
          "output_type": "stream",
          "name": "stdout",
          "text": [
            "Drive already mounted at /content/drive; to attempt to forcibly remount, call drive.mount(\"/content/drive\", force_remount=True).\n"
          ]
        }
      ]
    },
    {
      "cell_type": "code",
      "execution_count": null,
      "id": "ba50f732",
      "metadata": {
        "_cell_guid": "b1076dfc-b9ad-4769-8c92-a6c4dae69d19",
        "_uuid": "8f2839f25d086af736a60e9eeb907d3b93b6e0e5",
        "execution": {
          "iopub.execute_input": "2022-02-14T16:29:50.267140Z",
          "iopub.status.busy": "2022-02-14T16:29:50.266195Z",
          "iopub.status.idle": "2022-02-14T16:29:50.288767Z",
          "shell.execute_reply": "2022-02-14T16:29:50.289348Z",
          "shell.execute_reply.started": "2022-02-14T04:54:07.974292Z"
        },
        "papermill": {
          "duration": 0.048615,
          "end_time": "2022-02-14T16:29:50.289522",
          "exception": false,
          "start_time": "2022-02-14T16:29:50.240907",
          "status": "completed"
        },
        "tags": [],
        "id": "ba50f732"
      },
      "outputs": [],
      "source": [
        "import numpy as np # linear algebra\n",
        "import pandas as pd # data processing, CSV file I/O (e.g. pd.read_csv)\n",
        "df = pd.read_csv('/content/drive/MyDrive/ThefilteredFinal.csv')"
      ]
    },
    {
      "cell_type": "code",
      "execution_count": null,
      "id": "24d786ff",
      "metadata": {
        "execution": {
          "iopub.execute_input": "2022-02-14T16:30:23.445800Z",
          "iopub.status.busy": "2022-02-14T16:30:23.445166Z",
          "iopub.status.idle": "2022-02-14T16:30:23.449160Z",
          "shell.execute_reply": "2022-02-14T16:30:23.448594Z",
          "shell.execute_reply.started": "2022-02-14T04:54:46.020438Z"
        },
        "papermill": {
          "duration": 0.216273,
          "end_time": "2022-02-14T16:30:23.449313",
          "exception": false,
          "start_time": "2022-02-14T16:30:23.233040",
          "status": "completed"
        },
        "tags": [],
        "colab": {
          "base_uri": "https://localhost:8080/"
        },
        "id": "24d786ff",
        "outputId": "4cd51026-0277-406d-878f-c2a64f2be110"
      },
      "outputs": [
        {
          "output_type": "execute_result",
          "data": {
            "text/plain": [
              "4     405787\n",
              "2     398538\n",
              "7     285762\n",
              "1     199764\n",
              "5     198373\n",
              "3     180578\n",
              "8      60877\n",
              "9      47994\n",
              "10     46412\n",
              "11      8618\n",
              "0       7412\n",
              "12      4638\n",
              "6       1242\n",
              "Name:  Label, dtype: int64"
            ]
          },
          "metadata": {},
          "execution_count": 99
        }
      ],
      "source": [
        "df[\" Label\"].value_counts()\n",
        "# del df"
      ]
    },
    {
      "cell_type": "code",
      "execution_count": null,
      "id": "5435947f",
      "metadata": {
        "execution": {
          "iopub.execute_input": "2022-02-14T16:30:31.401643Z",
          "iopub.status.busy": "2022-02-14T16:30:31.401004Z",
          "iopub.status.idle": "2022-02-14T16:30:31.414747Z",
          "shell.execute_reply": "2022-02-14T16:30:31.415218Z",
          "shell.execute_reply.started": "2022-02-14T04:54:57.749868Z"
        },
        "papermill": {
          "duration": 0.041523,
          "end_time": "2022-02-14T16:30:31.415442",
          "exception": false,
          "start_time": "2022-02-14T16:30:31.373919",
          "status": "completed"
        },
        "tags": [],
        "id": "5435947f"
      },
      "outputs": [],
      "source": [
        "# df_experiment.Label.value_counts()\n",
        "# del df\n",
        "df.drop([\" Source IP\", \" Destination IP\"], axis=1, inplace=True)"
      ]
    },
    {
      "cell_type": "code",
      "source": [
        "df.drop(\"Unnamed: 0\", axis=1, inplace=True)"
      ],
      "metadata": {
        "id": "zmkF2b_TvfWY"
      },
      "id": "zmkF2b_TvfWY",
      "execution_count": null,
      "outputs": []
    },
    {
      "cell_type": "code",
      "source": [
        "df.drop(\"Flow ID\", axis=1, inplace=True)"
      ],
      "metadata": {
        "id": "wADgVLi0wsDN"
      },
      "id": "wADgVLi0wsDN",
      "execution_count": null,
      "outputs": []
    },
    {
      "cell_type": "code",
      "source": [
        "df.drop(\" Timestamp\", axis=1, inplace=True)"
      ],
      "metadata": {
        "id": "LmkQhLbyw5jf"
      },
      "id": "LmkQhLbyw5jf",
      "execution_count": null,
      "outputs": []
    },
    {
      "cell_type": "code",
      "source": [
        "df.columns"
      ],
      "metadata": {
        "colab": {
          "base_uri": "https://localhost:8080/"
        },
        "id": "S6wbI_mXvYlp",
        "outputId": "33d8dce9-238c-4878-95fb-2141c622c046"
      },
      "id": "S6wbI_mXvYlp",
      "execution_count": null,
      "outputs": [
        {
          "output_type": "execute_result",
          "data": {
            "text/plain": [
              "Index([' Source Port', ' Destination Port', ' Protocol', ' Flow Duration',\n",
              "       ' Total Fwd Packets', ' Total Backward Packets',\n",
              "       'Total Length of Fwd Packets', ' Fwd Packet Length Min',\n",
              "       ' Fwd Packet Length Std', 'Bwd Packet Length Max',\n",
              "       ' Bwd Packet Length Min', ' Bwd Packet Length Mean', ' Flow IAT Mean',\n",
              "       ' Flow IAT Std', ' Flow IAT Min', 'Fwd IAT Total', ' Fwd IAT Mean',\n",
              "       ' Fwd IAT Min', ' Bwd IAT Min', 'Fwd PSH Flags', ' Bwd PSH Flags',\n",
              "       ' Fwd URG Flags', ' Bwd URG Flags', ' Fwd Header Length',\n",
              "       ' Bwd Header Length', ' Bwd Packets/s', 'FIN Flag Count',\n",
              "       ' SYN Flag Count', ' URG Flag Count', ' CWE Flag Count',\n",
              "       ' ECE Flag Count', ' Down/Up Ratio', 'Fwd Avg Bytes/Bulk',\n",
              "       ' Fwd Avg Packets/Bulk', ' Fwd Avg Bulk Rate', ' Bwd Avg Bytes/Bulk',\n",
              "       ' Bwd Avg Packets/Bulk', 'Bwd Avg Bulk Rate', 'Init_Win_bytes_forward',\n",
              "       ' Init_Win_bytes_backward', 'Active Mean', ' Active Std', ' Idle Std',\n",
              "       ' NFlow Packets/s', ' Label'],\n",
              "      dtype='object')"
            ]
          },
          "metadata": {},
          "execution_count": 104
        }
      ]
    },
    {
      "cell_type": "code",
      "source": [
        "df = df[[' Source Port', ' Destination Port', ' Protocol', ' Flow Duration',\n",
        "       ' Total Fwd Packets', ' Total Backward Packets',\n",
        "       'Total Length of Fwd Packets', ' Fwd Packet Length Min',\n",
        "       'Bwd Packet Length Max', ' Flow IAT Mean', ' Flow IAT Std',\n",
        "       ' Flow IAT Min', 'Fwd IAT Total', ' Fwd IAT Mean', ' Fwd IAT Min',\n",
        "       ' Fwd Header Length', ' Bwd Header Length', ' Bwd Packets/s',\n",
        "       ' Init_Win_bytes_backward', ' NFlow Packets/s',\" Label\"]]"
      ],
      "metadata": {
        "id": "DjwaLU8q0ttG"
      },
      "id": "DjwaLU8q0ttG",
      "execution_count": null,
      "outputs": []
    },
    {
      "cell_type": "code",
      "source": [
        "pd.set_option('display.max_columns', None)\n",
        "df.head()\n"
      ],
      "metadata": {
        "colab": {
          "base_uri": "https://localhost:8080/",
          "height": 322
        },
        "id": "Obfen26QxGd1",
        "outputId": "a011b439-0917-4a88-9abd-fd142697c7b5"
      },
      "id": "Obfen26QxGd1",
      "execution_count": null,
      "outputs": [
        {
          "output_type": "execute_result",
          "data": {
            "text/plain": [
              "    Source Port   Destination Port   Protocol   Flow Duration  \\\n",
              "0         51400              47620         17               1   \n",
              "1         40627              21702         17               1   \n",
              "2         56021              48070         17               0   \n",
              "3         40496              52869         17               1   \n",
              "4         57036              31958         17               0   \n",
              "\n",
              "    Total Fwd Packets   Total Backward Packets  Total Length of Fwd Packets  \\\n",
              "0                   2                        0                        750.0   \n",
              "1                   2                        0                        802.0   \n",
              "2                   2                        0                        802.0   \n",
              "3                   2                        0                        766.0   \n",
              "4                   2                        0                        766.0   \n",
              "\n",
              "    Fwd Packet Length Min  Bwd Packet Length Max   Flow IAT Mean  \\\n",
              "0                   375.0                    0.0             1.0   \n",
              "1                   401.0                    0.0             1.0   \n",
              "2                   401.0                    0.0             0.0   \n",
              "3                   383.0                    0.0             1.0   \n",
              "4                   383.0                    0.0             0.0   \n",
              "\n",
              "    Flow IAT Std   Flow IAT Min  Fwd IAT Total   Fwd IAT Mean   Fwd IAT Min  \\\n",
              "0            0.0            1.0            1.0            1.0           1.0   \n",
              "1            0.0            1.0            1.0            1.0           1.0   \n",
              "2            0.0            0.0            0.0            0.0           0.0   \n",
              "3            0.0            1.0            1.0            1.0           1.0   \n",
              "4            0.0            0.0            0.0            0.0           0.0   \n",
              "\n",
              "    Fwd Header Length   Bwd Header Length   Bwd Packets/s  \\\n",
              "0                  16                   0             0.0   \n",
              "1                  16                   0             0.0   \n",
              "2                  40                   0             0.0   \n",
              "3                  40                   0             0.0   \n",
              "4                  40                   0             0.0   \n",
              "\n",
              "    Init_Win_bytes_backward   NFlow Packets/s   Label  \n",
              "0                        -1      1.199559e+00       2  \n",
              "1                        -1      1.199559e+00       2  \n",
              "2                        -1      1.601800e-15       2  \n",
              "3                        -1      1.199559e+00       2  \n",
              "4                        -1      1.601800e-15       2  "
            ],
            "text/html": [
              "\n",
              "  <div id=\"df-94605a56-d930-4527-bf19-87a0bec9821e\">\n",
              "    <div class=\"colab-df-container\">\n",
              "      <div>\n",
              "<style scoped>\n",
              "    .dataframe tbody tr th:only-of-type {\n",
              "        vertical-align: middle;\n",
              "    }\n",
              "\n",
              "    .dataframe tbody tr th {\n",
              "        vertical-align: top;\n",
              "    }\n",
              "\n",
              "    .dataframe thead th {\n",
              "        text-align: right;\n",
              "    }\n",
              "</style>\n",
              "<table border=\"1\" class=\"dataframe\">\n",
              "  <thead>\n",
              "    <tr style=\"text-align: right;\">\n",
              "      <th></th>\n",
              "      <th>Source Port</th>\n",
              "      <th>Destination Port</th>\n",
              "      <th>Protocol</th>\n",
              "      <th>Flow Duration</th>\n",
              "      <th>Total Fwd Packets</th>\n",
              "      <th>Total Backward Packets</th>\n",
              "      <th>Total Length of Fwd Packets</th>\n",
              "      <th>Fwd Packet Length Min</th>\n",
              "      <th>Bwd Packet Length Max</th>\n",
              "      <th>Flow IAT Mean</th>\n",
              "      <th>Flow IAT Std</th>\n",
              "      <th>Flow IAT Min</th>\n",
              "      <th>Fwd IAT Total</th>\n",
              "      <th>Fwd IAT Mean</th>\n",
              "      <th>Fwd IAT Min</th>\n",
              "      <th>Fwd Header Length</th>\n",
              "      <th>Bwd Header Length</th>\n",
              "      <th>Bwd Packets/s</th>\n",
              "      <th>Init_Win_bytes_backward</th>\n",
              "      <th>NFlow Packets/s</th>\n",
              "      <th>Label</th>\n",
              "    </tr>\n",
              "  </thead>\n",
              "  <tbody>\n",
              "    <tr>\n",
              "      <th>0</th>\n",
              "      <td>51400</td>\n",
              "      <td>47620</td>\n",
              "      <td>17</td>\n",
              "      <td>1</td>\n",
              "      <td>2</td>\n",
              "      <td>0</td>\n",
              "      <td>750.0</td>\n",
              "      <td>375.0</td>\n",
              "      <td>0.0</td>\n",
              "      <td>1.0</td>\n",
              "      <td>0.0</td>\n",
              "      <td>1.0</td>\n",
              "      <td>1.0</td>\n",
              "      <td>1.0</td>\n",
              "      <td>1.0</td>\n",
              "      <td>16</td>\n",
              "      <td>0</td>\n",
              "      <td>0.0</td>\n",
              "      <td>-1</td>\n",
              "      <td>1.199559e+00</td>\n",
              "      <td>2</td>\n",
              "    </tr>\n",
              "    <tr>\n",
              "      <th>1</th>\n",
              "      <td>40627</td>\n",
              "      <td>21702</td>\n",
              "      <td>17</td>\n",
              "      <td>1</td>\n",
              "      <td>2</td>\n",
              "      <td>0</td>\n",
              "      <td>802.0</td>\n",
              "      <td>401.0</td>\n",
              "      <td>0.0</td>\n",
              "      <td>1.0</td>\n",
              "      <td>0.0</td>\n",
              "      <td>1.0</td>\n",
              "      <td>1.0</td>\n",
              "      <td>1.0</td>\n",
              "      <td>1.0</td>\n",
              "      <td>16</td>\n",
              "      <td>0</td>\n",
              "      <td>0.0</td>\n",
              "      <td>-1</td>\n",
              "      <td>1.199559e+00</td>\n",
              "      <td>2</td>\n",
              "    </tr>\n",
              "    <tr>\n",
              "      <th>2</th>\n",
              "      <td>56021</td>\n",
              "      <td>48070</td>\n",
              "      <td>17</td>\n",
              "      <td>0</td>\n",
              "      <td>2</td>\n",
              "      <td>0</td>\n",
              "      <td>802.0</td>\n",
              "      <td>401.0</td>\n",
              "      <td>0.0</td>\n",
              "      <td>0.0</td>\n",
              "      <td>0.0</td>\n",
              "      <td>0.0</td>\n",
              "      <td>0.0</td>\n",
              "      <td>0.0</td>\n",
              "      <td>0.0</td>\n",
              "      <td>40</td>\n",
              "      <td>0</td>\n",
              "      <td>0.0</td>\n",
              "      <td>-1</td>\n",
              "      <td>1.601800e-15</td>\n",
              "      <td>2</td>\n",
              "    </tr>\n",
              "    <tr>\n",
              "      <th>3</th>\n",
              "      <td>40496</td>\n",
              "      <td>52869</td>\n",
              "      <td>17</td>\n",
              "      <td>1</td>\n",
              "      <td>2</td>\n",
              "      <td>0</td>\n",
              "      <td>766.0</td>\n",
              "      <td>383.0</td>\n",
              "      <td>0.0</td>\n",
              "      <td>1.0</td>\n",
              "      <td>0.0</td>\n",
              "      <td>1.0</td>\n",
              "      <td>1.0</td>\n",
              "      <td>1.0</td>\n",
              "      <td>1.0</td>\n",
              "      <td>40</td>\n",
              "      <td>0</td>\n",
              "      <td>0.0</td>\n",
              "      <td>-1</td>\n",
              "      <td>1.199559e+00</td>\n",
              "      <td>2</td>\n",
              "    </tr>\n",
              "    <tr>\n",
              "      <th>4</th>\n",
              "      <td>57036</td>\n",
              "      <td>31958</td>\n",
              "      <td>17</td>\n",
              "      <td>0</td>\n",
              "      <td>2</td>\n",
              "      <td>0</td>\n",
              "      <td>766.0</td>\n",
              "      <td>383.0</td>\n",
              "      <td>0.0</td>\n",
              "      <td>0.0</td>\n",
              "      <td>0.0</td>\n",
              "      <td>0.0</td>\n",
              "      <td>0.0</td>\n",
              "      <td>0.0</td>\n",
              "      <td>0.0</td>\n",
              "      <td>40</td>\n",
              "      <td>0</td>\n",
              "      <td>0.0</td>\n",
              "      <td>-1</td>\n",
              "      <td>1.601800e-15</td>\n",
              "      <td>2</td>\n",
              "    </tr>\n",
              "  </tbody>\n",
              "</table>\n",
              "</div>\n",
              "      <button class=\"colab-df-convert\" onclick=\"convertToInteractive('df-94605a56-d930-4527-bf19-87a0bec9821e')\"\n",
              "              title=\"Convert this dataframe to an interactive table.\"\n",
              "              style=\"display:none;\">\n",
              "        \n",
              "  <svg xmlns=\"http://www.w3.org/2000/svg\" height=\"24px\"viewBox=\"0 0 24 24\"\n",
              "       width=\"24px\">\n",
              "    <path d=\"M0 0h24v24H0V0z\" fill=\"none\"/>\n",
              "    <path d=\"M18.56 5.44l.94 2.06.94-2.06 2.06-.94-2.06-.94-.94-2.06-.94 2.06-2.06.94zm-11 1L8.5 8.5l.94-2.06 2.06-.94-2.06-.94L8.5 2.5l-.94 2.06-2.06.94zm10 10l.94 2.06.94-2.06 2.06-.94-2.06-.94-.94-2.06-.94 2.06-2.06.94z\"/><path d=\"M17.41 7.96l-1.37-1.37c-.4-.4-.92-.59-1.43-.59-.52 0-1.04.2-1.43.59L10.3 9.45l-7.72 7.72c-.78.78-.78 2.05 0 2.83L4 21.41c.39.39.9.59 1.41.59.51 0 1.02-.2 1.41-.59l7.78-7.78 2.81-2.81c.8-.78.8-2.07 0-2.86zM5.41 20L4 18.59l7.72-7.72 1.47 1.35L5.41 20z\"/>\n",
              "  </svg>\n",
              "      </button>\n",
              "      \n",
              "  <style>\n",
              "    .colab-df-container {\n",
              "      display:flex;\n",
              "      flex-wrap:wrap;\n",
              "      gap: 12px;\n",
              "    }\n",
              "\n",
              "    .colab-df-convert {\n",
              "      background-color: #E8F0FE;\n",
              "      border: none;\n",
              "      border-radius: 50%;\n",
              "      cursor: pointer;\n",
              "      display: none;\n",
              "      fill: #1967D2;\n",
              "      height: 32px;\n",
              "      padding: 0 0 0 0;\n",
              "      width: 32px;\n",
              "    }\n",
              "\n",
              "    .colab-df-convert:hover {\n",
              "      background-color: #E2EBFA;\n",
              "      box-shadow: 0px 1px 2px rgba(60, 64, 67, 0.3), 0px 1px 3px 1px rgba(60, 64, 67, 0.15);\n",
              "      fill: #174EA6;\n",
              "    }\n",
              "\n",
              "    [theme=dark] .colab-df-convert {\n",
              "      background-color: #3B4455;\n",
              "      fill: #D2E3FC;\n",
              "    }\n",
              "\n",
              "    [theme=dark] .colab-df-convert:hover {\n",
              "      background-color: #434B5C;\n",
              "      box-shadow: 0px 1px 3px 1px rgba(0, 0, 0, 0.15);\n",
              "      filter: drop-shadow(0px 1px 2px rgba(0, 0, 0, 0.3));\n",
              "      fill: #FFFFFF;\n",
              "    }\n",
              "  </style>\n",
              "\n",
              "      <script>\n",
              "        const buttonEl =\n",
              "          document.querySelector('#df-94605a56-d930-4527-bf19-87a0bec9821e button.colab-df-convert');\n",
              "        buttonEl.style.display =\n",
              "          google.colab.kernel.accessAllowed ? 'block' : 'none';\n",
              "\n",
              "        async function convertToInteractive(key) {\n",
              "          const element = document.querySelector('#df-94605a56-d930-4527-bf19-87a0bec9821e');\n",
              "          const dataTable =\n",
              "            await google.colab.kernel.invokeFunction('convertToInteractive',\n",
              "                                                     [key], {});\n",
              "          if (!dataTable) return;\n",
              "\n",
              "          const docLinkHtml = 'Like what you see? Visit the ' +\n",
              "            '<a target=\"_blank\" href=https://colab.research.google.com/notebooks/data_table.ipynb>data table notebook</a>'\n",
              "            + ' to learn more about interactive tables.';\n",
              "          element.innerHTML = '';\n",
              "          dataTable['output_type'] = 'display_data';\n",
              "          await google.colab.output.renderOutput(dataTable, element);\n",
              "          const docLink = document.createElement('div');\n",
              "          docLink.innerHTML = docLinkHtml;\n",
              "          element.appendChild(docLink);\n",
              "        }\n",
              "      </script>\n",
              "    </div>\n",
              "  </div>\n",
              "  "
            ]
          },
          "metadata": {},
          "execution_count": 106
        }
      ]
    },
    {
      "cell_type": "code",
      "execution_count": null,
      "id": "3d0f641d",
      "metadata": {
        "execution": {
          "iopub.execute_input": "2022-02-14T16:30:31.471237Z",
          "iopub.status.busy": "2022-02-14T16:30:31.470464Z",
          "iopub.status.idle": "2022-02-14T16:30:39.896550Z",
          "shell.execute_reply": "2022-02-14T16:30:39.896027Z",
          "shell.execute_reply.started": "2022-02-14T04:54:57.766937Z"
        },
        "papermill": {
          "duration": 8.456867,
          "end_time": "2022-02-14T16:30:39.896684",
          "exception": false,
          "start_time": "2022-02-14T16:30:31.439817",
          "status": "completed"
        },
        "tags": [],
        "colab": {
          "base_uri": "https://localhost:8080/"
        },
        "id": "3d0f641d",
        "outputId": "1b9d4096-0487-4557-e4c5-1ba5930c3289"
      },
      "outputs": [
        {
          "output_type": "stream",
          "name": "stdout",
          "text": [
            "(1845995, 20)\n",
            "number of labels: 13\n",
            "instances per label\n",
            " 4     405787\n",
            "2     398538\n",
            "7     285762\n",
            "1     199764\n",
            "5     198373\n",
            "3     180578\n",
            "8      60877\n",
            "9      47994\n",
            "10     46412\n",
            "11      8618\n",
            "0       7412\n",
            "12      4638\n",
            "6       1242\n",
            "Name:  Label, dtype: int64\n",
            "labels: [ 2  6  0  3  4  5  1  8  7 10 11 12  9]\n",
            "after spliting the data:\n",
            "\n",
            "training data length: 1384496\n",
            "test data length: 461499\n"
          ]
        }
      ],
      "source": [
        "# data split\n",
        "from sklearn.model_selection import train_test_split\n",
        "from collections import Counter\n",
        "y = df[\" Label\"]\n",
        "X = df.drop(columns=' Label')\n",
        "labels = y.unique()\n",
        "\n",
        "classes = y.nunique()\n",
        "print(X.shape)\n",
        "print(\"number of labels:\", classes)\n",
        "print(\"instances per label\\n\", y.value_counts())\n",
        "print(\"labels:\", labels)\n",
        "\n",
        "X_train, X_test, y_train, y_test = train_test_split(X, y, random_state=42, stratify=y)\n",
        "# print(len(df_experiment))\n",
        "# print(df_experiment.Label.nunique())\n",
        "# print(df_experiment.Label.value_counts())\n",
        "print(\"after spliting the data:\\n\")\n",
        "print(\"training data length:\", len(X_train))\n",
        "print(\"test data length:\", len(X_test))\n",
        "# print(y_train.nunique())\n",
        "# print(y_train.value_counts())"
      ]
    },
    {
      "cell_type": "code",
      "source": [
        "y_train.unique()"
      ],
      "metadata": {
        "colab": {
          "base_uri": "https://localhost:8080/"
        },
        "id": "yniG53CD3EWa",
        "outputId": "4f072d13-212e-44df-d9b2-38e28dfabf4d"
      },
      "id": "yniG53CD3EWa",
      "execution_count": null,
      "outputs": [
        {
          "output_type": "execute_result",
          "data": {
            "text/plain": [
              "array([10,  4,  8,  3,  7,  1,  5,  2,  9,  0,  6, 11, 12])"
            ]
          },
          "metadata": {},
          "execution_count": 108
        }
      ]
    },
    {
      "cell_type": "code",
      "source": [
        "### Set a copy for binary classification:\n",
        "class_attack = [10,  4,  8,  3,  7,  5,  2,  9,  6, 11, 12]\n",
        "bi_train_y = y_train.copy()\n",
        "# bi_train_y.replace(class_attack, value='attack', inplace=True)\n",
        "bi_train_y.replace(1, value='tftp', inplace=True)\n",
        "bi_train_y.replace(2, value='udpssdp', inplace=True)\n",
        "bi_train_y.replace(3, value='ldap', inplace=True)\n",
        "bi_train_y.replace(4, value='syn', inplace=True)\n",
        "bi_train_y.replace(5, value='mssql', inplace=True)\n",
        "bi_train_y.replace(6, value='hulk', inplace=True)\n",
        "bi_train_y.replace(7, value='rudy', inplace=True)\n",
        "bi_train_y.replace(8, value='goldeneye', inplace=True)\n",
        "bi_train_y.replace(9, value='http', inplace=True)\n",
        "bi_train_y.replace(10, value='sqli', inplace=True)\n",
        "bi_train_y.replace(11, value='mitm', inplace=True)\n",
        "bi_train_y.replace(12, value='dictionary', inplace=True)\n",
        "bi_train_y.replace(0, value='benign', inplace=True)\n",
        "\n",
        "print(bi_train_y.unique())\n",
        "# bi_train.head(2)\n",
        "\n",
        "bi_test_y = y_test.copy()\n",
        "# bi_test_y.replace(class_attack, value='attack', inplace=True)\n",
        "bi_test_y.replace(1, value='tftp', inplace=True)\n",
        "bi_test_y.replace(2, value='udpssdp', inplace=True)\n",
        "bi_test_y.replace(3, value='ldap', inplace=True)\n",
        "bi_test_y.replace(4, value='syn', inplace=True)\n",
        "bi_test_y.replace(5, value='mssql', inplace=True)\n",
        "bi_test_y.replace(6, value='hulk', inplace=True)\n",
        "bi_test_y.replace(7, value='rudy', inplace=True)\n",
        "bi_test_y.replace(8, value='goldeneye', inplace=True)\n",
        "bi_test_y.replace(9, value='http', inplace=True)\n",
        "bi_test_y.replace(10, value='sqli', inplace=True)\n",
        "bi_test_y.replace(11, value='mitm', inplace=True)\n",
        "bi_test_y.replace(12, value='dictionary', inplace=True)\n",
        "bi_test_y.replace(0, value='benign', inplace=True)\n",
        "print(bi_test_y.unique())\n",
        "# bi_train.head(2)\n",
        "\n",
        "### switch for binary!\n",
        "y_train = bi_train_y\n",
        "y_test = bi_test_y"
      ],
      "metadata": {
        "colab": {
          "base_uri": "https://localhost:8080/"
        },
        "id": "laM4hPeRPNye",
        "outputId": "afa88921-2635-431f-911d-205ca6d920a0"
      },
      "id": "laM4hPeRPNye",
      "execution_count": null,
      "outputs": [
        {
          "output_type": "stream",
          "name": "stdout",
          "text": [
            "['sqli' 'syn' 'goldeneye' 'ldap' 'rudy' 'tftp' 'mssql' 'udpssdp' 'http'\n",
            " 'benign' 'hulk' 'mitm' 'dictionary']\n",
            "['udpssdp' 'goldeneye' 'syn' 'mssql' 'rudy' 'tftp' 'ldap' 'http' 'sqli'\n",
            " 'mitm' 'hulk' 'dictionary' 'benign']\n"
          ]
        }
      ]
    },
    {
      "cell_type": "code",
      "source": [
        "# ### Set a copy for binary classification:\n",
        "# class_attack = [10,  4,  8,  3,  7,  5, 1, 2,  9,  6, 11, 12]\n",
        "# bi_train_y = y_train.copy()\n",
        "# bi_train_y.replace(class_attack, value='attack', inplace=True)\n",
        "# bi_train_y.replace(0, value='benign', inplace=True)\n",
        "\n",
        "# print(bi_train_y.unique())\n",
        "# # bi_train.head(2)\n",
        "\n",
        "# bi_test_y = y_test.copy()\n",
        "# bi_test_y.replace(class_attack, value='attack', inplace=True)\n",
        "# bi_test_y.replace(0, value='benign', inplace=True)\n",
        "# print(bi_test_y.unique())\n",
        "# # bi_train.head(2)\n",
        "\n",
        "# ### switch for binary!\n",
        "# y_train = bi_train_y\n",
        "# y_test = bi_test_y"
      ],
      "metadata": {
        "colab": {
          "base_uri": "https://localhost:8080/"
        },
        "id": "r0ENfNWoVOvK",
        "outputId": "3bfbf225-b416-45f3-f1a3-a4e9038298c0"
      },
      "id": "r0ENfNWoVOvK",
      "execution_count": null,
      "outputs": [
        {
          "output_type": "stream",
          "name": "stdout",
          "text": [
            "['attack' 'benign']\n",
            "['attack' 'benign']\n"
          ]
        }
      ]
    },
    {
      "cell_type": "code",
      "source": [
        "from sklearn.preprocessing import OneHotEncoder, LabelEncoder, MinMaxScaler\n",
        "# enc = OneHotEncoder(handle_unknown='ignore')\n",
        "scaler = MinMaxScaler()\n",
        "le = LabelEncoder()\n",
        "\n",
        "X_train = scaler.fit_transform(X_train)\n",
        "X_test = scaler.transform(X_test)\n",
        "print(\"instances per label in training set\\n\", y_train.value_counts())\n",
        "y_train = le.fit_transform(y_train)\n",
        "print(\"instances per label in test set\\n\", y_test.value_counts())\n",
        "y_test = le.transform(y_test)\n",
        "\n",
        "print(X_train.shape)\n",
        "print(X_test.shape)\n",
        "labels_dict = dict(zip(le.classes_, range(len(le.classes_))))\n",
        "print(labels_dict)\n",
        "\n",
        "\n",
        "### training data sampling\n",
        "from imblearn.over_sampling import SMOTE\n",
        "from imblearn.under_sampling import RandomUnderSampler\n",
        "from imblearn.pipeline import Pipeline\n",
        "from collections import Counter\n",
        "over = SMOTE(sampling_strategy='not majority', n_jobs=-1)\n",
        "under = RandomUnderSampler(sampling_strategy=\n",
        "                             {labels_dict['syn']:200000})\n",
        "steps = [('u', under)]\n",
        "steps = [('o', over)]\n",
        "pipeline = Pipeline(steps=steps)\n",
        "X_train, y_train = pipeline.fit_resample(X_train, y_train)\n",
        "counter = Counter(y_train)\n",
        "print(counter)"
      ],
      "metadata": {
        "colab": {
          "base_uri": "https://localhost:8080/"
        },
        "id": "SX3XbqOmPhc2",
        "outputId": "c3c56f79-9ea7-4faa-f1f6-bcaf8e6f54ed"
      },
      "id": "SX3XbqOmPhc2",
      "execution_count": null,
      "outputs": [
        {
          "output_type": "stream",
          "name": "stdout",
          "text": [
            "instances per label in training set\n",
            " syn           304340\n",
            "udpssdp       298903\n",
            "rudy          214321\n",
            "tftp          149823\n",
            "mssql         148780\n",
            "ldap          135433\n",
            "goldeneye      45658\n",
            "http           35995\n",
            "sqli           34809\n",
            "mitm            6464\n",
            "benign          5559\n",
            "dictionary      3479\n",
            "hulk             932\n",
            "Name:  Label, dtype: int64\n",
            "instances per label in test set\n",
            " syn           101447\n",
            "udpssdp        99635\n",
            "rudy           71441\n",
            "tftp           49941\n",
            "mssql          49593\n",
            "ldap           45145\n",
            "goldeneye      15219\n",
            "http           11999\n",
            "sqli           11603\n",
            "mitm            2154\n",
            "benign          1853\n",
            "dictionary      1159\n",
            "hulk             310\n",
            "Name:  Label, dtype: int64\n",
            "(1384496, 20)\n",
            "(461499, 20)\n",
            "{'benign': 0, 'dictionary': 1, 'goldeneye': 2, 'http': 3, 'hulk': 4, 'ldap': 5, 'mitm': 6, 'mssql': 7, 'rudy': 8, 'sqli': 9, 'syn': 10, 'tftp': 11, 'udpssdp': 12}\n",
            "Counter({12: 298903, 8: 214321, 10: 200000, 11: 149823, 7: 148780, 5: 135433, 2: 45658, 3: 35995, 9: 34809, 6: 6464, 0: 5559, 1: 3479, 4: 932})\n"
          ]
        }
      ]
    },
    {
      "cell_type": "code",
      "source": [
        "# from sklearn.preprocessing import OneHotEncoder\n",
        "# encoder = OneHotEncoder(handle_unknown='ignore')\n",
        "# #perform one-hot encoding on 'team' column \n",
        "# encoding = pd.DataFrame(encoder.fit_transform(np.array(y_train).reshape(-1,1)).toarray())\n",
        "# encoding_test = pd.DataFrame(encoder.fit_transform(np.array(y_test).reshape(-1,1)).toarray())"
      ],
      "metadata": {
        "id": "MRcWXT473bhV"
      },
      "id": "MRcWXT473bhV",
      "execution_count": null,
      "outputs": []
    },
    {
      "cell_type": "code",
      "execution_count": null,
      "id": "3cd8d726",
      "metadata": {
        "execution": {
          "iopub.execute_input": "2022-02-14T16:30:40.788448Z",
          "iopub.status.busy": "2022-02-14T16:30:40.787872Z",
          "iopub.status.idle": "2022-02-14T16:45:51.440833Z",
          "shell.execute_reply": "2022-02-14T16:45:51.441444Z",
          "shell.execute_reply.started": "2022-02-14T04:55:10.918708Z"
        },
        "papermill": {
          "duration": 910.681409,
          "end_time": "2022-02-14T16:45:51.441789",
          "exception": false,
          "start_time": "2022-02-14T16:30:40.760380",
          "status": "completed"
        },
        "tags": [],
        "colab": {
          "base_uri": "https://localhost:8080/"
        },
        "id": "3cd8d726",
        "outputId": "e8e4d6c1-e711-400f-b3d8-4544eaa31798"
      },
      "outputs": [
        {
          "output_type": "stream",
          "name": "stdout",
          "text": [
            "(1384496, 20)\n",
            "(461499, 20)\n"
          ]
        }
      ],
      "source": [
        "# from sklearn.preprocessing import OneHotEncoder, LabelEncoder, MinMaxScaler\n",
        "# enc = OneHotEncoder(handle_unknown='ignore')\n",
        "# scaler = MinMaxScaler()\n",
        "# le = LabelEncoder()\n",
        "\n",
        "# X_train = scaler.fit_transform(X_train)\n",
        "# X_test = scaler.transform(X_test)\n",
        "# # print(\"instances per label in training set\\n\", encoding.value_counts())\n",
        "# # print(\"instances per label in test set\\n\", encoding_test.value_counts())\n",
        "\n",
        "# print(X_train.shape)\n",
        "# print(X_test.shape)\n",
        "# # labels_dict = dict(zip(le.classes_, range(13)))\n",
        "# # print(labels_dict)\n",
        "\n",
        "\n",
        "# ### training data sampling\n",
        "# from imblearn.over_sampling import SMOTE\n",
        "# from imblearn.under_sampling import RandomUnderSampler\n",
        "# from imblearn.pipeline import Pipeline\n",
        "# from collections import Counter\n",
        "# over = SMOTE(sampling_strategy='not majority', n_jobs=-1)\n",
        "# # under = #RandomUnderSampler(sampling_strategy=\n",
        "#                              #{labels_dict[\"benign\"]:200000})\n",
        "# # steps = [('u', under), ('o', over)]\n",
        "# steps = [('o', over)]\n",
        "# pipeline = Pipeline(steps=steps)\n",
        "# # X_train, y_train = pipeline.fit_resample(X_train, encoding)\n",
        "# # counter = Counter(encoding)\n",
        "# # print(counter)"
      ]
    },
    {
      "cell_type": "code",
      "execution_count": null,
      "id": "8c7d9558",
      "metadata": {
        "execution": {
          "iopub.execute_input": "2022-02-14T16:45:58.118020Z",
          "iopub.status.busy": "2022-02-14T16:45:58.117089Z",
          "iopub.status.idle": "2022-02-14T16:46:04.909314Z",
          "shell.execute_reply": "2022-02-14T16:46:04.910123Z",
          "shell.execute_reply.started": "2022-02-14T05:13:57.445037Z"
        },
        "papermill": {
          "duration": 6.823212,
          "end_time": "2022-02-14T16:46:04.910381",
          "exception": false,
          "start_time": "2022-02-14T16:45:58.087169",
          "status": "completed"
        },
        "tags": [],
        "id": "8c7d9558"
      },
      "outputs": [],
      "source": [
        "### transform ndarray into dataframe type for later operation.\n",
        "X_train = pd.DataFrame(X_train)\n",
        "X_test = pd.DataFrame(X_test)\n",
        "\n",
        "### transform ndarray back:\n",
        "X_train = X_train.values\n",
        "X_test = X_test.values"
      ]
    },
    {
      "cell_type": "markdown",
      "id": "6264cd9a",
      "metadata": {
        "papermill": {
          "duration": 0.027443,
          "end_time": "2022-02-14T16:46:04.966801",
          "exception": false,
          "start_time": "2022-02-14T16:46:04.939358",
          "status": "completed"
        },
        "tags": [],
        "id": "6264cd9a"
      },
      "source": [
        "## Classification Model---LSTM "
      ]
    },
    {
      "cell_type": "code",
      "execution_count": null,
      "id": "5cfda7e7",
      "metadata": {
        "execution": {
          "iopub.execute_input": "2022-02-14T16:46:05.026291Z",
          "iopub.status.busy": "2022-02-14T16:46:05.025658Z",
          "iopub.status.idle": "2022-02-14T16:46:05.030777Z",
          "shell.execute_reply": "2022-02-14T16:46:05.031234Z",
          "shell.execute_reply.started": "2022-02-14T05:13:57.457794Z"
        },
        "papermill": {
          "duration": 0.036828,
          "end_time": "2022-02-14T16:46:05.031434",
          "exception": false,
          "start_time": "2022-02-14T16:46:04.994606",
          "status": "completed"
        },
        "tags": [],
        "colab": {
          "base_uri": "https://localhost:8080/"
        },
        "id": "5cfda7e7",
        "outputId": "e8111856-7337-4262-e761-00c4a8a04081"
      },
      "outputs": [
        {
          "output_type": "stream",
          "name": "stdout",
          "text": [
            "shape of X_train: (1280156, 1, 20)\n",
            "shape of X_test: (461499, 1, 20)\n"
          ]
        }
      ],
      "source": [
        "### reshape input data to LSTM format [samples, time_steps, features]\n",
        "X_train_lstm = X_train.reshape(X_train.shape[0], 1, X_train.shape[1])\n",
        "X_test_lstm = X_test.reshape(X_test.shape[0], 1, X_test.shape[1])\n",
        "print(f\"shape of X_train:\", X_train_lstm.shape)\n",
        "print(f\"shape of X_test:\", X_test_lstm.shape)"
      ]
    },
    {
      "cell_type": "code",
      "execution_count": null,
      "id": "1301b29e",
      "metadata": {
        "execution": {
          "iopub.execute_input": "2022-02-14T16:46:05.095741Z",
          "iopub.status.busy": "2022-02-14T16:46:05.095057Z",
          "iopub.status.idle": "2022-02-14T16:46:11.468271Z",
          "shell.execute_reply": "2022-02-14T16:46:11.467477Z",
          "shell.execute_reply.started": "2022-02-14T05:13:57.475352Z"
        },
        "papermill": {
          "duration": 6.408737,
          "end_time": "2022-02-14T16:46:11.468472",
          "exception": false,
          "start_time": "2022-02-14T16:46:05.059735",
          "status": "completed"
        },
        "tags": [],
        "colab": {
          "base_uri": "https://localhost:8080/"
        },
        "id": "1301b29e",
        "outputId": "1dab9631-3493-440e-c9d6-e7aaa11d1e47"
      },
      "outputs": [
        {
          "output_type": "stream",
          "name": "stdout",
          "text": [
            "num of classes:13\n"
          ]
        }
      ],
      "source": [
        "from tensorflow.keras import Model, Sequential, Input, backend\n",
        "from tensorflow.keras.layers import LSTM, Dense, Dropout\n",
        "from tensorflow.keras.callbacks import EarlyStopping\n",
        "\n",
        "n_classes = len(le.classes_)\n",
        "print(f\"num of classes:{n_classes}\")\n",
        "n_features = X_train_lstm.shape[2]\n",
        "def multiClassModel(n_features, n_classes=9):\n",
        "    model = Sequential()\n",
        "    model.add(Input(shape=(None, n_features)))\n",
        "    model.add(LSTM(units=10))\n",
        "    model.add(Dropout(0.2))\n",
        "    model.add(Dense(n_classes, activation=\"softmax\", name=\"softmax\"))\n",
        "    model.compile(loss=\"sparse_categorical_crossentropy\", optimizer='Adam', metrics=[\"accuracy\"])\n",
        "    model.summary()\n",
        "    return model"
      ]
    },
    {
      "cell_type": "code",
      "execution_count": null,
      "id": "461a7598",
      "metadata": {
        "execution": {
          "iopub.execute_input": "2022-02-14T16:46:11.530223Z",
          "iopub.status.busy": "2022-02-14T16:46:11.529636Z",
          "iopub.status.idle": "2022-02-14T18:47:36.380902Z",
          "shell.execute_reply": "2022-02-14T18:47:36.264833Z",
          "shell.execute_reply.started": "2022-02-14T05:14:03.195529Z"
        },
        "papermill": {
          "duration": 7284.882698,
          "end_time": "2022-02-14T18:47:36.381193",
          "exception": false,
          "start_time": "2022-02-14T16:46:11.498495",
          "status": "completed"
        },
        "tags": [],
        "colab": {
          "base_uri": "https://localhost:8080/",
          "height": 668
        },
        "id": "461a7598",
        "outputId": "14c2ece1-4ad1-411a-9a13-dbc742fe31a7"
      },
      "outputs": [
        {
          "output_type": "stream",
          "name": "stdout",
          "text": [
            "Model: \"sequential\"\n",
            "_________________________________________________________________\n",
            " Layer (type)                Output Shape              Param #   \n",
            "=================================================================\n",
            " lstm (LSTM)                 (None, 10)                1240      \n",
            "                                                                 \n",
            " dropout (Dropout)           (None, 10)                0         \n",
            "                                                                 \n",
            " softmax (Dense)             (None, 13)                143       \n",
            "                                                                 \n",
            "=================================================================\n",
            "Total params: 1,383\n",
            "Trainable params: 1,383\n",
            "Non-trainable params: 0\n",
            "_________________________________________________________________\n",
            "16002/16002 [==============================] - 69s 4ms/step - loss: 0.3983 - accuracy: 0.8880 - val_loss: 0.2844 - val_accuracy: 0.9714\n"
          ]
        },
        {
          "output_type": "display_data",
          "data": {
            "text/plain": [
              "<Figure size 576x432 with 1 Axes>"
            ],
            "image/png": "[encoded data removed]"
          },
          "metadata": {
            "needs_background": "light"
          }
        }
      ],
      "source": [
        "callback = EarlyStopping(patience=20, mode='min', restore_best_weights=True)\n",
        "backend.clear_session()\n",
        "model = multiClassModel(n_features, n_classes)\n",
        "history = model.fit(X_train_lstm, y_train, \n",
        "                    epochs=1, batch_size=64, validation_split=0.2, callbacks=[callback])\n",
        "### check the loss trend of epochs\n",
        "pd.DataFrame(history.history).plot(kind='line', xlabel='epochs', figsize=(8, 6))\n",
        "\n",
        "import matplotlib.pyplot as plt\n",
        "plt.show()"
      ]
    },
    {
      "cell_type": "code",
      "source": [
        "def plot_loss_curves(history):\n",
        "    loss = history.history['loss']\n",
        "    val_loss = history.history['val_loss']\n",
        "\n",
        "    accuracy = history.history['accuracy']\n",
        "    val_accuracy = history.history['val_accuracy']\n",
        "\n",
        "    epochs = range(len(history.history['loss']))\n",
        "\n",
        "    # Plot loss\n",
        "    plt.figure(figsize = (15, 6))\n",
        "    plt.subplot(1, 2, 1)\n",
        "    plt.plot(epochs, loss, label='training_loss')\n",
        "    plt.plot(epochs, val_loss, label='val_loss')\n",
        "    plt.title('Training Loss vs Validation Loss for LSTM')\n",
        "    plt.xlabel('Epochs')\n",
        "    plt.ylabel('Loss')\n",
        "    plt.legend()\n",
        "\n",
        "    # Plot accuracy\n",
        "    plt.subplot(1, 2, 2)\n",
        "    plt.plot(epochs, accuracy, label='training_accuracy')\n",
        "    plt.plot(epochs, val_accuracy, label='val_accuracy')\n",
        "    plt.title('Training Accuracy vs Validation Accuracy for LSTM')\n",
        "    plt.xlabel('Epochs')\n",
        "    plt.ylabel('Accuracy')\n",
        "    plt.legend();"
      ],
      "metadata": {
        "id": "vfy8gyty9UDG"
      },
      "id": "vfy8gyty9UDG",
      "execution_count": null,
      "outputs": []
    },
    {
      "cell_type": "code",
      "source": [
        "plot_loss_curves(history)"
      ],
      "metadata": {
        "colab": {
          "base_uri": "https://localhost:8080/",
          "height": 404
        },
        "id": "wo0kcEtn9iIv",
        "outputId": "c050477a-3491-4ad5-c204-464f7e708bee"
      },
      "id": "wo0kcEtn9iIv",
      "execution_count": null,
      "outputs": [
        {
          "output_type": "display_data",
          "data": {
            "text/plain": [
              "<Figure size 1080x432 with 2 Axes>"
            ],
            "image/png": "[encoded data removed]"
          },
          "metadata": {
            "needs_background": "light"
          }
        }
      ]
    },
    {
      "cell_type": "code",
      "source": [
        "model.save(\"/content/drive/MyDrive/LSTMCYPRUSS.h5\")"
      ],
      "metadata": {
        "id": "9MSXP5n6-Jia"
      },
      "id": "9MSXP5n6-Jia",
      "execution_count": null,
      "outputs": []
    },
    {
      "cell_type": "code",
      "source": [
        "# predicting on training set\n",
        "y_test_pred_prob = model.predict(X_test_lstm)\n",
        "y_test_pred = np.argmax(y_test_pred_prob, axis=1)"
      ],
      "metadata": {
        "colab": {
          "base_uri": "https://localhost:8080/"
        },
        "id": "uWz4NgSGWlAW",
        "outputId": "5e5be4ca-4465-4c6d-ff07-6a81894eb914"
      },
      "id": "uWz4NgSGWlAW",
      "execution_count": null,
      "outputs": [
        {
          "output_type": "stream",
          "name": "stdout",
          "text": [
            "14422/14422 [==============================] - 30s 2ms/step\n"
          ]
        }
      ]
    },
    {
      "cell_type": "code",
      "execution_count": null,
      "id": "8e31e477",
      "metadata": {
        "execution": {
          "iopub.execute_input": "2022-02-14T18:52:36.507850Z",
          "iopub.status.busy": "2022-02-14T18:52:36.506944Z",
          "iopub.status.idle": "2022-02-14T18:52:39.194128Z",
          "shell.execute_reply": "2022-02-14T18:52:39.193665Z",
          "shell.execute_reply.started": "2022-02-14T09:04:59.157448Z"
        },
        "papermill": {
          "duration": 32.596347,
          "end_time": "2022-02-14T18:52:39.194279",
          "exception": false,
          "start_time": "2022-02-14T18:52:06.597932",
          "status": "completed"
        },
        "tags": [],
        "id": "8e31e477",
        "outputId": "d519c4cf-c030-4ed6-b840-be809304d708",
        "colab": {
          "base_uri": "https://localhost:8080/",
          "height": 689
        }
      },
      "outputs": [
        {
          "output_type": "display_data",
          "data": {
            "text/plain": [
              "<Figure size 864x864 with 2 Axes>"
            ],
            "image/png": "[encoded data removed]"
          },
          "metadata": {
            "needs_background": "light"
          }
        }
      ],
      "source": [
        "from sklearn.metrics import confusion_matrix, ConfusionMatrixDisplay\n",
        "import matplotlib.pyplot as plt\n",
        "import seaborn as sns\n",
        "%matplotlib inline\n",
        "cm = confusion_matrix(y_test, y_test_pred)\n",
        "fig, ax = plt.subplots(figsize=(12, 12))\n",
        "ConfusionMatrixDisplay(confusion_matrix=cm, display_labels=le.classes_).plot(ax=ax)\n",
        "plt.show()"
      ]
    },
    {
      "cell_type": "code",
      "source": [
        "def multilabel_matrix(y_true, y_pred, labels=None):\n",
        "    mlm = multilabel_confusion_matrix(y_true, y_pred, labels=labels)\n",
        "    df_performance = pd.DataFrame(index=labels, columns=['accuracy', 'precision', 'recall', 'f1_score'])\n",
        "    for i, label in enumerate(labels):\n",
        "        tn, fp, fn, tp = mlm[i].ravel()\n",
        "        accuracy = (tn + tp) / (tn + fp + fn + tp)\n",
        "        precision = tp / (tp + fp)\n",
        "        recall = tp / (tp + fn)\n",
        "\n",
        "        f1_score = 2*precision * recall / (precision + recall)\n",
        "        df_performance.loc[label] = [round(accuracy, 4), round(precision,4), \\\n",
        "                                     round(recall, 4), round(f1_score,4)]\n",
        "    return df_performance\n"
      ],
      "metadata": {
        "id": "Z_Ov3kfjBex9"
      },
      "id": "Z_Ov3kfjBex9",
      "execution_count": null,
      "outputs": []
    },
    {
      "cell_type": "code",
      "source": [
        "from tensorflow.keras.utils import to_categorical\n",
        "from sklearn.metrics import roc_curve, auc\n",
        "from sklearn.metrics import roc_auc_score\n",
        "from itertools import cycle\n",
        "def RoC_Curve(y_score, y, labels, title): \n",
        "    y_cat = to_categorical(y)\n",
        "    \n",
        "    # Compute ROC curve and ROC area for each class\n",
        "    fpr = dict()\n",
        "    tpr = dict()\n",
        "    roc_auc = dict()\n",
        "    lw = 2\n",
        "    # First aggregate all false positive rates\n",
        "    n_classes = len(labels)\n",
        "#     print('n_classes:', n_classes)\n",
        "\n",
        "    for i in range(n_classes):\n",
        "        fpr[i], tpr[i], _ = roc_curve(y_cat[:, i], y_score[:, i])\n",
        "        roc_auc[i] = auc(fpr[i], tpr[i])\n",
        "\n",
        "    # Compute micro-average ROC curve and ROC area\n",
        "    fpr[\"micro\"], tpr[\"micro\"], _ = roc_curve(y_cat.ravel(), y_score.ravel())\n",
        "    roc_auc[\"micro\"] = auc(fpr[\"micro\"], tpr[\"micro\"])\n",
        "\n",
        "    # First aggregate all false positive rates\n",
        "    all_fpr = np.unique(np.concatenate([fpr[i] for i in range(n_classes)]))\n",
        "\n",
        "    # Then interpolate all ROC curves at this points\n",
        "    mean_tpr = np.zeros_like(all_fpr)\n",
        "    for i in range(n_classes):\n",
        "        mean_tpr += np.interp(all_fpr, fpr[i], tpr[i])\n",
        "\n",
        "    # Finally average it and compute AUC\n",
        "    mean_tpr /= n_classes\n",
        "\n",
        "    fpr[\"macro\"] = all_fpr\n",
        "    tpr[\"macro\"] = mean_tpr\n",
        "    roc_auc[\"macro\"] = auc(fpr[\"macro\"], tpr[\"macro\"])\n",
        "\n",
        "    # Plot all ROC curves\n",
        "    plt.figure(figsize=(8,8))\n",
        "    plt.plot(fpr[\"micro\"], tpr[\"micro\"],\n",
        "             label='micro-average ROC curve (area = {0:0.4f})'\n",
        "                   ''.format(roc_auc[\"micro\"]),\n",
        "             color='deeppink', linestyle=':', linewidth=4)\n",
        "\n",
        "    plt.plot(fpr[\"macro\"], tpr[\"macro\"],\n",
        "             label='macro-average ROC curve (area = {0:0.4f})'\n",
        "                   ''.format(roc_auc[\"macro\"]),\n",
        "             color='navy', linestyle=':', linewidth=4)\n",
        "\n",
        "    for i in range(n_classes):\n",
        "        plt.plot(fpr[i], tpr[i], lw=lw,\n",
        "                 label=f'ROC curve of class {labels[i]} (area = {roc_auc[i]:0.4f})')\n",
        "\n",
        "    plt.plot([0, 1], [0, 1], 'k--', lw=lw)\n",
        "    plt.xlim([0.0, 1.0])\n",
        "    plt.ylim([0.0, 1.05])\n",
        "    plt.xlabel('False Positive Rate')\n",
        "    plt.ylabel('True Positive Rate')\n",
        "    plt.title(title, fontsize=16)\n",
        "    plt.legend(loc=\"lower right\")\n",
        "    plt.show()\n",
        "\n"
      ],
      "metadata": {
        "id": "e7kTJXWEXCKZ"
      },
      "id": "e7kTJXWEXCKZ",
      "execution_count": null,
      "outputs": []
    },
    {
      "cell_type": "code",
      "source": [
        "y_train_pred_prob = model.predict(X_train_lstm)\n",
        "y_train_pred = np.argmax(y_train_pred_prob, axis=1)"
      ],
      "metadata": {
        "colab": {
          "base_uri": "https://localhost:8080/"
        },
        "id": "Uhep8r6PXT6Z",
        "outputId": "accec74d-f503-43bd-e0e7-9551cfffc04b"
      },
      "id": "Uhep8r6PXT6Z",
      "execution_count": null,
      "outputs": [
        {
          "output_type": "stream",
          "name": "stdout",
          "text": [
            "40005/40005 [==============================] - 71s 2ms/step\n"
          ]
        }
      ]
    },
    {
      "cell_type": "code",
      "execution_count": null,
      "id": "2c2c07aa",
      "metadata": {
        "execution": {
          "iopub.execute_input": "2022-02-14T18:53:38.836680Z",
          "iopub.status.busy": "2022-02-14T18:53:38.835742Z",
          "iopub.status.idle": "2022-02-14T18:53:39.550346Z",
          "shell.execute_reply": "2022-02-14T18:53:39.550781Z",
          "shell.execute_reply.started": "2022-02-14T09:05:03.646161Z"
        },
        "papermill": {
          "duration": 30.592747,
          "end_time": "2022-02-14T18:53:39.550940",
          "exception": false,
          "start_time": "2022-02-14T18:53:08.958193",
          "status": "completed"
        },
        "tags": [],
        "id": "2c2c07aa",
        "outputId": "5b8bcc65-5fb5-41c8-9ef3-2fd3ae7eaf0d",
        "colab": {
          "base_uri": "https://localhost:8080/",
          "height": 963
        }
      },
      "outputs": [
        {
          "output_type": "stream",
          "name": "stderr",
          "text": [
            "/usr/local/lib/python3.8/dist-packages/sklearn/metrics/_classification.py:1318: UndefinedMetricWarning: Precision and F-score are ill-defined and being set to 0.0 in labels with no predicted samples. Use `zero_division` parameter to control this behavior.\n",
            "  _warn_prf(average, modifier, msg_start, len(result))\n",
            "/usr/local/lib/python3.8/dist-packages/sklearn/metrics/_classification.py:1318: UndefinedMetricWarning: Precision and F-score are ill-defined and being set to 0.0 in labels with no predicted samples. Use `zero_division` parameter to control this behavior.\n",
            "  _warn_prf(average, modifier, msg_start, len(result))\n",
            "/usr/local/lib/python3.8/dist-packages/sklearn/metrics/_classification.py:1318: UndefinedMetricWarning: Precision and F-score are ill-defined and being set to 0.0 in labels with no predicted samples. Use `zero_division` parameter to control this behavior.\n",
            "  _warn_prf(average, modifier, msg_start, len(result))\n"
          ]
        },
        {
          "output_type": "stream",
          "name": "stdout",
          "text": [
            "              precision    recall  f1-score   support\n",
            "\n",
            "      benign       0.00      0.00      0.00      5559\n",
            "  dictionary       0.78      0.81      0.79      3479\n",
            "   goldeneye       0.97      0.96      0.97     45658\n",
            "        http       0.93      0.74      0.83     35995\n",
            "        hulk       0.00      0.00      0.00       932\n",
            "        ldap       0.98      1.00      0.99    135433\n",
            "        mitm       0.74      0.91      0.82      6464\n",
            "       mssql       0.97      1.00      0.98    148780\n",
            "        rudy       0.92      0.99      0.95    214321\n",
            "        sqli       0.98      0.77      0.86     34809\n",
            "         syn       1.00      1.00      1.00    200000\n",
            "        tftp       0.95      0.99      0.97    149823\n",
            "     udpssdp       1.00      0.97      0.98    298903\n",
            "\n",
            "    accuracy                           0.97   1280156\n",
            "   macro avg       0.79      0.78      0.78   1280156\n",
            "weighted avg       0.96      0.97      0.97   1280156\n",
            "\n"
          ]
        },
        {
          "output_type": "stream",
          "name": "stderr",
          "text": [
            "<ipython-input-130-8c06ea8cffd7>:8: RuntimeWarning: invalid value encountered in long_scalars\n",
            "  recall = tp / (tp + fn)\n"
          ]
        },
        {
          "output_type": "execute_result",
          "data": {
            "text/plain": [
              "           accuracy precision  recall f1_score\n",
              "benign       0.9957       0.0     NaN      NaN\n",
              "dictionary   0.9989     0.814  0.7753   0.7942\n",
              "goldeneye    0.9977    0.9608  0.9736   0.9672\n",
              "http         0.9913    0.7405   0.935   0.8265\n",
              "hulk         0.9993       0.0     NaN      NaN\n",
              "ldap         0.9978    0.9986  0.9806   0.9895\n",
              "mitm         0.9979    0.9117  0.7383   0.8159\n",
              "mssql        0.9962    0.9961   0.972   0.9839\n",
              "rudy         0.9832    0.9893  0.9171   0.9519\n",
              "sqli         0.9933    0.7687  0.9814   0.8621\n",
              "syn          0.9992    0.9964  0.9983   0.9974\n",
              "tftp         0.9934    0.9916  0.9541   0.9725\n",
              "udpssdp      0.9931    0.9716  0.9987    0.985"
            ],
            "text/html": [
              "\n",
              "  <div id=\"df-146b9f91-8127-4b97-bbec-62be10111c37\">\n",
              "    <div class=\"colab-df-container\">\n",
              "      <div>\n",
              "<style scoped>\n",
              "    .dataframe tbody tr th:only-of-type {\n",
              "        vertical-align: middle;\n",
              "    }\n",
              "\n",
              "    .dataframe tbody tr th {\n",
              "        vertical-align: top;\n",
              "    }\n",
              "\n",
              "    .dataframe thead th {\n",
              "        text-align: right;\n",
              "    }\n",
              "</style>\n",
              "<table border=\"1\" class=\"dataframe\">\n",
              "  <thead>\n",
              "    <tr style=\"text-align: right;\">\n",
              "      <th></th>\n",
              "      <th>accuracy</th>\n",
              "      <th>precision</th>\n",
              "      <th>recall</th>\n",
              "      <th>f1_score</th>\n",
              "    </tr>\n",
              "  </thead>\n",
              "  <tbody>\n",
              "    <tr>\n",
              "      <th>benign</th>\n",
              "      <td>0.9957</td>\n",
              "      <td>0.0</td>\n",
              "      <td>NaN</td>\n",
              "      <td>NaN</td>\n",
              "    </tr>\n",
              "    <tr>\n",
              "      <th>dictionary</th>\n",
              "      <td>0.9989</td>\n",
              "      <td>0.814</td>\n",
              "      <td>0.7753</td>\n",
              "      <td>0.7942</td>\n",
              "    </tr>\n",
              "    <tr>\n",
              "      <th>goldeneye</th>\n",
              "      <td>0.9977</td>\n",
              "      <td>0.9608</td>\n",
              "      <td>0.9736</td>\n",
              "      <td>0.9672</td>\n",
              "    </tr>\n",
              "    <tr>\n",
              "      <th>http</th>\n",
              "      <td>0.9913</td>\n",
              "      <td>0.7405</td>\n",
              "      <td>0.935</td>\n",
              "      <td>0.8265</td>\n",
              "    </tr>\n",
              "    <tr>\n",
              "      <th>hulk</th>\n",
              "      <td>0.9993</td>\n",
              "      <td>0.0</td>\n",
              "      <td>NaN</td>\n",
              "      <td>NaN</td>\n",
              "    </tr>\n",
              "    <tr>\n",
              "      <th>ldap</th>\n",
              "      <td>0.9978</td>\n",
              "      <td>0.9986</td>\n",
              "      <td>0.9806</td>\n",
              "      <td>0.9895</td>\n",
              "    </tr>\n",
              "    <tr>\n",
              "      <th>mitm</th>\n",
              "      <td>0.9979</td>\n",
              "      <td>0.9117</td>\n",
              "      <td>0.7383</td>\n",
              "      <td>0.8159</td>\n",
              "    </tr>\n",
              "    <tr>\n",
              "      <th>mssql</th>\n",
              "      <td>0.9962</td>\n",
              "      <td>0.9961</td>\n",
              "      <td>0.972</td>\n",
              "      <td>0.9839</td>\n",
              "    </tr>\n",
              "    <tr>\n",
              "      <th>rudy</th>\n",
              "      <td>0.9832</td>\n",
              "      <td>0.9893</td>\n",
              "      <td>0.9171</td>\n",
              "      <td>0.9519</td>\n",
              "    </tr>\n",
              "    <tr>\n",
              "      <th>sqli</th>\n",
              "      <td>0.9933</td>\n",
              "      <td>0.7687</td>\n",
              "      <td>0.9814</td>\n",
              "      <td>0.8621</td>\n",
              "    </tr>\n",
              "    <tr>\n",
              "      <th>syn</th>\n",
              "      <td>0.9992</td>\n",
              "      <td>0.9964</td>\n",
              "      <td>0.9983</td>\n",
              "      <td>0.9974</td>\n",
              "    </tr>\n",
              "    <tr>\n",
              "      <th>tftp</th>\n",
              "      <td>0.9934</td>\n",
              "      <td>0.9916</td>\n",
              "      <td>0.9541</td>\n",
              "      <td>0.9725</td>\n",
              "    </tr>\n",
              "    <tr>\n",
              "      <th>udpssdp</th>\n",
              "      <td>0.9931</td>\n",
              "      <td>0.9716</td>\n",
              "      <td>0.9987</td>\n",
              "      <td>0.985</td>\n",
              "    </tr>\n",
              "  </tbody>\n",
              "</table>\n",
              "</div>\n",
              "      <button class=\"colab-df-convert\" onclick=\"convertToInteractive('df-146b9f91-8127-4b97-bbec-62be10111c37')\"\n",
              "              title=\"Convert this dataframe to an interactive table.\"\n",
              "              style=\"display:none;\">\n",
              "        \n",
              "  <svg xmlns=\"http://www.w3.org/2000/svg\" height=\"24px\"viewBox=\"0 0 24 24\"\n",
              "       width=\"24px\">\n",
              "    <path d=\"M0 0h24v24H0V0z\" fill=\"none\"/>\n",
              "    <path d=\"M18.56 5.44l.94 2.06.94-2.06 2.06-.94-2.06-.94-.94-2.06-.94 2.06-2.06.94zm-11 1L8.5 8.5l.94-2.06 2.06-.94-2.06-.94L8.5 2.5l-.94 2.06-2.06.94zm10 10l.94 2.06.94-2.06 2.06-.94-2.06-.94-.94-2.06-.94 2.06-2.06.94z\"/><path d=\"M17.41 7.96l-1.37-1.37c-.4-.4-.92-.59-1.43-.59-.52 0-1.04.2-1.43.59L10.3 9.45l-7.72 7.72c-.78.78-.78 2.05 0 2.83L4 21.41c.39.39.9.59 1.41.59.51 0 1.02-.2 1.41-.59l7.78-7.78 2.81-2.81c.8-.78.8-2.07 0-2.86zM5.41 20L4 18.59l7.72-7.72 1.47 1.35L5.41 20z\"/>\n",
              "  </svg>\n",
              "      </button>\n",
              "      \n",
              "  <style>\n",
              "    .colab-df-container {\n",
              "      display:flex;\n",
              "      flex-wrap:wrap;\n",
              "      gap: 12px;\n",
              "    }\n",
              "\n",
              "    .colab-df-convert {\n",
              "      background-color: #E8F0FE;\n",
              "      border: none;\n",
              "      border-radius: 50%;\n",
              "      cursor: pointer;\n",
              "      display: none;\n",
              "      fill: #1967D2;\n",
              "      height: 32px;\n",
              "      padding: 0 0 0 0;\n",
              "      width: 32px;\n",
              "    }\n",
              "\n",
              "    .colab-df-convert:hover {\n",
              "      background-color: #E2EBFA;\n",
              "      box-shadow: 0px 1px 2px rgba(60, 64, 67, 0.3), 0px 1px 3px 1px rgba(60, 64, 67, 0.15);\n",
              "      fill: #174EA6;\n",
              "    }\n",
              "\n",
              "    [theme=dark] .colab-df-convert {\n",
              "      background-color: #3B4455;\n",
              "      fill: #D2E3FC;\n",
              "    }\n",
              "\n",
              "    [theme=dark] .colab-df-convert:hover {\n",
              "      background-color: #434B5C;\n",
              "      box-shadow: 0px 1px 3px 1px rgba(0, 0, 0, 0.15);\n",
              "      filter: drop-shadow(0px 1px 2px rgba(0, 0, 0, 0.3));\n",
              "      fill: #FFFFFF;\n",
              "    }\n",
              "  </style>\n",
              "\n",
              "      <script>\n",
              "        const buttonEl =\n",
              "          document.querySelector('#df-146b9f91-8127-4b97-bbec-62be10111c37 button.colab-df-convert');\n",
              "        buttonEl.style.display =\n",
              "          google.colab.kernel.accessAllowed ? 'block' : 'none';\n",
              "\n",
              "        async function convertToInteractive(key) {\n",
              "          const element = document.querySelector('#df-146b9f91-8127-4b97-bbec-62be10111c37');\n",
              "          const dataTable =\n",
              "            await google.colab.kernel.invokeFunction('convertToInteractive',\n",
              "                                                     [key], {});\n",
              "          if (!dataTable) return;\n",
              "\n",
              "          const docLinkHtml = 'Like what you see? Visit the ' +\n",
              "            '<a target=\"_blank\" href=https://colab.research.google.com/notebooks/data_table.ipynb>data table notebook</a>'\n",
              "            + ' to learn more about interactive tables.';\n",
              "          element.innerHTML = '';\n",
              "          dataTable['output_type'] = 'display_data';\n",
              "          await google.colab.output.renderOutput(dataTable, element);\n",
              "          const docLink = document.createElement('div');\n",
              "          docLink.innerHTML = docLinkHtml;\n",
              "          element.appendChild(docLink);\n",
              "        }\n",
              "      </script>\n",
              "    </div>\n",
              "  </div>\n",
              "  "
            ]
          },
          "metadata": {},
          "execution_count": 133
        }
      ],
      "source": [
        "from sklearn.metrics import classification_report, multilabel_confusion_matrix\n",
        "y_train_pred_labels = le.inverse_transform(y_train_pred)\n",
        "y_train_labels = le.inverse_transform(y_train)\n",
        "print(classification_report(y_train_labels, y_train_pred_labels))\n",
        "performance = multilabel_matrix(y_train_pred_labels, y_train_labels, labels=le.classes_)\n",
        "performance"
      ]
    },
    {
      "cell_type": "code",
      "execution_count": null,
      "id": "b56e26b5",
      "metadata": {
        "papermill": {
          "duration": 29.614304,
          "end_time": "2022-02-14T19:06:33.781289",
          "exception": false,
          "start_time": "2022-02-14T19:06:04.166985",
          "status": "completed"
        },
        "tags": [],
        "id": "b56e26b5",
        "colab": {
          "base_uri": "https://localhost:8080/"
        },
        "outputId": "f2e15fd6-0b77-422d-bd2d-9367b0915f9c"
      },
      "outputs": [
        {
          "output_type": "stream",
          "name": "stderr",
          "text": [
            "/usr/local/lib/python3.8/dist-packages/sklearn/metrics/_classification.py:1318: UndefinedMetricWarning: Precision and F-score are ill-defined and being set to 0.0 in labels with no predicted samples. Use `zero_division` parameter to control this behavior.\n",
            "  _warn_prf(average, modifier, msg_start, len(result))\n",
            "/usr/local/lib/python3.8/dist-packages/sklearn/metrics/_classification.py:1318: UndefinedMetricWarning: Precision and F-score are ill-defined and being set to 0.0 in labels with no predicted samples. Use `zero_division` parameter to control this behavior.\n",
            "  _warn_prf(average, modifier, msg_start, len(result))\n"
          ]
        },
        {
          "output_type": "stream",
          "name": "stdout",
          "text": [
            "              precision    recall  f1-score   support\n",
            "\n",
            "      benign       0.00      0.00      0.00      1853\n",
            "  dictionary       0.80      0.82      0.81      1159\n",
            "   goldeneye       0.98      0.96      0.97     15219\n",
            "        http       0.93      0.74      0.83     11999\n",
            "        hulk       0.00      0.00      0.00       310\n",
            "        ldap       0.98      1.00      0.99     45145\n",
            "        mitm       0.74      0.91      0.82      2154\n",
            "       mssql       0.97      1.00      0.98     49593\n",
            "        rudy       0.92      0.99      0.95     71441\n",
            "        sqli       0.98      0.77      0.86     11603\n",
            "         syn       1.00      1.00      1.00    101447\n",
            "        tftp       0.95      0.99      0.97     49941\n",
            "     udpssdp       1.00      0.97      0.99     99635\n",
            "\n",
            "    accuracy                           0.97    461499\n",
            "   macro avg       0.79      0.78      0.78    461499\n",
            "weighted avg       0.97      0.97      0.97    461499\n",
            "\n"
          ]
        },
        {
          "output_type": "stream",
          "name": "stderr",
          "text": [
            "/usr/local/lib/python3.8/dist-packages/sklearn/metrics/_classification.py:1318: UndefinedMetricWarning: Precision and F-score are ill-defined and being set to 0.0 in labels with no predicted samples. Use `zero_division` parameter to control this behavior.\n",
            "  _warn_prf(average, modifier, msg_start, len(result))\n"
          ]
        }
      ],
      "source": [
        "y_test_pred_labels = le.inverse_transform(y_test_pred)\n",
        "y_test_true_labels = le.inverse_transform(y_test)\n",
        "print(classification_report(y_test_true_labels,y_test_pred_labels))"
      ]
    },
    {
      "cell_type": "code",
      "source": [
        "performance = multilabel_matrix(y_test_true_labels, y_test_pred_labels, labels=le.classes_)\n",
        "performance"
      ],
      "metadata": {
        "colab": {
          "base_uri": "https://localhost:8080/",
          "height": 492
        },
        "id": "Asb7xdViXe4I",
        "outputId": "22d9026b-38c1-421c-804f-6fc7ff8f48e3"
      },
      "id": "Asb7xdViXe4I",
      "execution_count": null,
      "outputs": [
        {
          "output_type": "stream",
          "name": "stderr",
          "text": [
            "<ipython-input-130-8c06ea8cffd7>:7: RuntimeWarning: invalid value encountered in long_scalars\n",
            "  precision = tp / (tp + fp)\n"
          ]
        },
        {
          "output_type": "execute_result",
          "data": {
            "text/plain": [
              "           accuracy precision  recall f1_score\n",
              "benign        0.996       NaN     0.0      NaN\n",
              "dictionary    0.999    0.7956  0.8197   0.8075\n",
              "goldeneye    0.9979    0.9752   0.962   0.9686\n",
              "http         0.9919    0.9344  0.7391   0.8253\n",
              "hulk         0.9993       NaN     0.0      NaN\n",
              "ldap          0.998    0.9809  0.9989   0.9898\n",
              "mitm         0.9981    0.7397  0.9141   0.8177\n",
              "mssql        0.9964    0.9712   0.996   0.9835\n",
              "rudy         0.9845    0.9169  0.9896   0.9519\n",
              "sqli         0.9938    0.9802  0.7706   0.8628\n",
              "syn          0.9989     0.999  0.9961   0.9975\n",
              "tftp         0.9938    0.9525  0.9919   0.9718\n",
              "udpssdp      0.9937    0.9989  0.9717   0.9851"
            ],
            "text/html": [
              "\n",
              "  <div id=\"df-e4e0c115-78ea-4062-8acf-f387adf408d4\">\n",
              "    <div class=\"colab-df-container\">\n",
              "      <div>\n",
              "<style scoped>\n",
              "    .dataframe tbody tr th:only-of-type {\n",
              "        vertical-align: middle;\n",
              "    }\n",
              "\n",
              "    .dataframe tbody tr th {\n",
              "        vertical-align: top;\n",
              "    }\n",
              "\n",
              "    .dataframe thead th {\n",
              "        text-align: right;\n",
              "    }\n",
              "</style>\n",
              "<table border=\"1\" class=\"dataframe\">\n",
              "  <thead>\n",
              "    <tr style=\"text-align: right;\">\n",
              "      <th></th>\n",
              "      <th>accuracy</th>\n",
              "      <th>precision</th>\n",
              "      <th>recall</th>\n",
              "      <th>f1_score</th>\n",
              "    </tr>\n",
              "  </thead>\n",
              "  <tbody>\n",
              "    <tr>\n",
              "      <th>benign</th>\n",
              "      <td>0.996</td>\n",
              "      <td>NaN</td>\n",
              "      <td>0.0</td>\n",
              "      <td>NaN</td>\n",
              "    </tr>\n",
              "    <tr>\n",
              "      <th>dictionary</th>\n",
              "      <td>0.999</td>\n",
              "      <td>0.7956</td>\n",
              "      <td>0.8197</td>\n",
              "      <td>0.8075</td>\n",
              "    </tr>\n",
              "    <tr>\n",
              "      <th>goldeneye</th>\n",
              "      <td>0.9979</td>\n",
              "      <td>0.9752</td>\n",
              "      <td>0.962</td>\n",
              "      <td>0.9686</td>\n",
              "    </tr>\n",
              "    <tr>\n",
              "      <th>http</th>\n",
              "      <td>0.9919</td>\n",
              "      <td>0.9344</td>\n",
              "      <td>0.7391</td>\n",
              "      <td>0.8253</td>\n",
              "    </tr>\n",
              "    <tr>\n",
              "      <th>hulk</th>\n",
              "      <td>0.9993</td>\n",
              "      <td>NaN</td>\n",
              "      <td>0.0</td>\n",
              "      <td>NaN</td>\n",
              "    </tr>\n",
              "    <tr>\n",
              "      <th>ldap</th>\n",
              "      <td>0.998</td>\n",
              "      <td>0.9809</td>\n",
              "      <td>0.9989</td>\n",
              "      <td>0.9898</td>\n",
              "    </tr>\n",
              "    <tr>\n",
              "      <th>mitm</th>\n",
              "      <td>0.9981</td>\n",
              "      <td>0.7397</td>\n",
              "      <td>0.9141</td>\n",
              "      <td>0.8177</td>\n",
              "    </tr>\n",
              "    <tr>\n",
              "      <th>mssql</th>\n",
              "      <td>0.9964</td>\n",
              "      <td>0.9712</td>\n",
              "      <td>0.996</td>\n",
              "      <td>0.9835</td>\n",
              "    </tr>\n",
              "    <tr>\n",
              "      <th>rudy</th>\n",
              "      <td>0.9845</td>\n",
              "      <td>0.9169</td>\n",
              "      <td>0.9896</td>\n",
              "      <td>0.9519</td>\n",
              "    </tr>\n",
              "    <tr>\n",
              "      <th>sqli</th>\n",
              "      <td>0.9938</td>\n",
              "      <td>0.9802</td>\n",
              "      <td>0.7706</td>\n",
              "      <td>0.8628</td>\n",
              "    </tr>\n",
              "    <tr>\n",
              "      <th>syn</th>\n",
              "      <td>0.9989</td>\n",
              "      <td>0.999</td>\n",
              "      <td>0.9961</td>\n",
              "      <td>0.9975</td>\n",
              "    </tr>\n",
              "    <tr>\n",
              "      <th>tftp</th>\n",
              "      <td>0.9938</td>\n",
              "      <td>0.9525</td>\n",
              "      <td>0.9919</td>\n",
              "      <td>0.9718</td>\n",
              "    </tr>\n",
              "    <tr>\n",
              "      <th>udpssdp</th>\n",
              "      <td>0.9937</td>\n",
              "      <td>0.9989</td>\n",
              "      <td>0.9717</td>\n",
              "      <td>0.9851</td>\n",
              "    </tr>\n",
              "  </tbody>\n",
              "</table>\n",
              "</div>\n",
              "      <button class=\"colab-df-convert\" onclick=\"convertToInteractive('df-e4e0c115-78ea-4062-8acf-f387adf408d4')\"\n",
              "              title=\"Convert this dataframe to an interactive table.\"\n",
              "              style=\"display:none;\">\n",
              "        \n",
              "  <svg xmlns=\"http://www.w3.org/2000/svg\" height=\"24px\"viewBox=\"0 0 24 24\"\n",
              "       width=\"24px\">\n",
              "    <path d=\"M0 0h24v24H0V0z\" fill=\"none\"/>\n",
              "    <path d=\"M18.56 5.44l.94 2.06.94-2.06 2.06-.94-2.06-.94-.94-2.06-.94 2.06-2.06.94zm-11 1L8.5 8.5l.94-2.06 2.06-.94-2.06-.94L8.5 2.5l-.94 2.06-2.06.94zm10 10l.94 2.06.94-2.06 2.06-.94-2.06-.94-.94-2.06-.94 2.06-2.06.94z\"/><path d=\"M17.41 7.96l-1.37-1.37c-.4-.4-.92-.59-1.43-.59-.52 0-1.04.2-1.43.59L10.3 9.45l-7.72 7.72c-.78.78-.78 2.05 0 2.83L4 21.41c.39.39.9.59 1.41.59.51 0 1.02-.2 1.41-.59l7.78-7.78 2.81-2.81c.8-.78.8-2.07 0-2.86zM5.41 20L4 18.59l7.72-7.72 1.47 1.35L5.41 20z\"/>\n",
              "  </svg>\n",
              "      </button>\n",
              "      \n",
              "  <style>\n",
              "    .colab-df-container {\n",
              "      display:flex;\n",
              "      flex-wrap:wrap;\n",
              "      gap: 12px;\n",
              "    }\n",
              "\n",
              "    .colab-df-convert {\n",
              "      background-color: #E8F0FE;\n",
              "      border: none;\n",
              "      border-radius: 50%;\n",
              "      cursor: pointer;\n",
              "      display: none;\n",
              "      fill: #1967D2;\n",
              "      height: 32px;\n",
              "      padding: 0 0 0 0;\n",
              "      width: 32px;\n",
              "    }\n",
              "\n",
              "    .colab-df-convert:hover {\n",
              "      background-color: #E2EBFA;\n",
              "      box-shadow: 0px 1px 2px rgba(60, 64, 67, 0.3), 0px 1px 3px 1px rgba(60, 64, 67, 0.15);\n",
              "      fill: #174EA6;\n",
              "    }\n",
              "\n",
              "    [theme=dark] .colab-df-convert {\n",
              "      background-color: #3B4455;\n",
              "      fill: #D2E3FC;\n",
              "    }\n",
              "\n",
              "    [theme=dark] .colab-df-convert:hover {\n",
              "      background-color: #434B5C;\n",
              "      box-shadow: 0px 1px 3px 1px rgba(0, 0, 0, 0.15);\n",
              "      filter: drop-shadow(0px 1px 2px rgba(0, 0, 0, 0.3));\n",
              "      fill: #FFFFFF;\n",
              "    }\n",
              "  </style>\n",
              "\n",
              "      <script>\n",
              "        const buttonEl =\n",
              "          document.querySelector('#df-e4e0c115-78ea-4062-8acf-f387adf408d4 button.colab-df-convert');\n",
              "        buttonEl.style.display =\n",
              "          google.colab.kernel.accessAllowed ? 'block' : 'none';\n",
              "\n",
              "        async function convertToInteractive(key) {\n",
              "          const element = document.querySelector('#df-e4e0c115-78ea-4062-8acf-f387adf408d4');\n",
              "          const dataTable =\n",
              "            await google.colab.kernel.invokeFunction('convertToInteractive',\n",
              "                                                     [key], {});\n",
              "          if (!dataTable) return;\n",
              "\n",
              "          const docLinkHtml = 'Like what you see? Visit the ' +\n",
              "            '<a target=\"_blank\" href=https://colab.research.google.com/notebooks/data_table.ipynb>data table notebook</a>'\n",
              "            + ' to learn more about interactive tables.';\n",
              "          element.innerHTML = '';\n",
              "          dataTable['output_type'] = 'display_data';\n",
              "          await google.colab.output.renderOutput(dataTable, element);\n",
              "          const docLink = document.createElement('div');\n",
              "          docLink.innerHTML = docLinkHtml;\n",
              "          element.appendChild(docLink);\n",
              "        }\n",
              "      </script>\n",
              "    </div>\n",
              "  </div>\n",
              "  "
            ]
          },
          "metadata": {},
          "execution_count": 135
        }
      ]
    },
    {
      "cell_type": "code",
      "execution_count": null,
      "id": "30fabb2c",
      "metadata": {
        "papermill": {
          "duration": 29.613492,
          "end_time": "2022-02-14T19:07:32.803217",
          "exception": false,
          "start_time": "2022-02-14T19:07:03.189725",
          "status": "completed"
        },
        "tags": [],
        "id": "30fabb2c",
        "colab": {
          "base_uri": "https://localhost:8080/",
          "height": 515
        },
        "outputId": "294e83e8-0daf-491a-d8e5-cf31dc07c34a"
      },
      "outputs": [
        {
          "output_type": "display_data",
          "data": {
            "text/plain": [
              "<Figure size 576x576 with 1 Axes>"
            ],
            "image/png": "[encoded data removed]"
          },
          "metadata": {
            "needs_background": "light"
          }
        }
      ],
      "source": [
        "RoC_Curve(y_train_pred_prob, y_train, le.classes_, title='ROC for CIC-IDS2017 training set')"
      ]
    },
    {
      "cell_type": "code",
      "source": [
        "RoC_Curve(y_test_pred_prob, y_test, le.classes_, title='ROC for CIC-IDS2017 test set')"
      ],
      "metadata": {
        "colab": {
          "base_uri": "https://localhost:8080/",
          "height": 515
        },
        "id": "AyCi2RKVXl0p",
        "outputId": "fe2c034b-3019-4cdd-c3a0-3ef0cf9a689f"
      },
      "id": "AyCi2RKVXl0p",
      "execution_count": null,
      "outputs": [
        {
          "output_type": "display_data",
          "data": {
            "text/plain": [
              "<Figure size 576x576 with 1 Axes>"
            ],
            "image/png": "[encoded data removed]"
          },
          "metadata": {
            "needs_background": "light"
          }
        }
      ]
    },
    {
      "cell_type": "code",
      "source": [],
      "metadata": {
        "id": "L-ElPMrvdxCC"
      },
      "id": "L-ElPMrvdxCC",
      "execution_count": null,
      "outputs": []
    }
  ],
  "metadata": {
    "kernelspec": {
      "display_name": "Python 3",
      "language": "python",
      "name": "python3"
    },
    "language_info": {
      "codemirror_mode": {
        "name": "ipython",
        "version": 3
      },
      "file_extension": ".py",
      "mimetype": "text/x-python",
      "name": "python",
      "nbconvert_exporter": "python",
      "pygments_lexer": "ipython3",
      "version": "3.7.12"
    },
    "papermill": {
      "default_parameters": {},
      "duration": 9504.921227,
      "end_time": "2022-02-14T19:08:06.532693",
      "environment_variables": {},
      "exception": null,
      "input_path": "__notebook__.ipynb",
      "output_path": "__notebook__.ipynb",
      "parameters": {},
      "start_time": "2022-02-14T16:29:41.611466",
      "version": "2.3.3"
    },
    "colab": {
      "provenance": [],
      "machine_shape": "hm"
    },
    "gpuClass": "premium",
    "accelerator": "GPU"
  },
  "nbformat": 4,
  "nbformat_minor": 5
}