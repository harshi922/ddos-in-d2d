{
 "cells": [
  {
   "cell_type": "code",
   "execution_count": 1,
   "id": "b9ec1cf9",
   "metadata": {},
   "outputs": [
    {
     "name": "stderr",
     "output_type": "stream",
     "text": [
      "2023-04-29 11:05:24.838423: I tensorflow/tsl/cuda/cudart_stub.cc:28] Could not find cuda drivers on your machine, GPU will not be used.\n",
      "2023-04-29 11:05:24.866707: I tensorflow/tsl/cuda/cudart_stub.cc:28] Could not find cuda drivers on your machine, GPU will not be used.\n",
      "2023-04-29 11:05:24.867158: I tensorflow/core/platform/cpu_feature_guard.cc:182] This TensorFlow binary is optimized to use available CPU instructions in performance-critical operations.\n",
      "To enable the following instructions: AVX2 FMA, in other operations, rebuild TensorFlow with the appropriate compiler flags.\n",
      "2023-04-29 11:05:26.265262: W tensorflow/compiler/tf2tensorrt/utils/py_utils.cc:38] TF-TRT Warning: Could not find TensorRT\n"
     ]
    }
   ],
   "source": [
    "import numpy as np\n",
    "import pandas as pd\n",
    "import matplotlib.pyplot as plt\n",
    "from sklearn.preprocessing import OneHotEncoder\n",
    "from imblearn.over_sampling import SMOTE\n",
    "from sklearn.model_selection import train_test_split\n",
    "import tensorflow as tf\n",
    "from tensorflow import keras\n",
    "from keras.layers import Input\n",
    "from keras.layers import Dense\n",
    "from keras.layers import Normalization\n",
    "from keras.models import Model\n",
    "from sklearn.metrics import accuracy_score\n",
    "\n",
    "%matplotlib inline"
   ]
  },
  {
   "cell_type": "markdown",
   "id": "7e39aa84",
   "metadata": {},
   "source": [
    "# Preprocessing"
   ]
  },
  {
   "cell_type": "code",
   "execution_count": 2,
   "id": "7401899a",
   "metadata": {},
   "outputs": [],
   "source": [
    "df = pd.read_csv(\"data/Custom_Dataset.csv\")"
   ]
  },
  {
   "cell_type": "code",
   "execution_count": 3,
   "id": "dc4ac90b",
   "metadata": {},
   "outputs": [],
   "source": [
    "# Label 0 for benign and 1 for any attack\n",
    "df[\"Label1\"] = np.where(df[' Label']==0, 0, 1)\n",
    "\n",
    "\n",
    "# Middle Label SQLi(10) as 1,MITM(11) as 2, Dictionary(12) as 3 and all Ddos as 0 \n",
    "conditions = [\n",
    "    (df[' Label'] == 10),\n",
    "    (df[' Label'] == 11),\n",
    "    (df[' Label'] == 12),\n",
    "    (df[' Label'] == 0),\n",
    "    df[' Label'].isin([1,2,3,4,5,6,7,8,9,13])]\n",
    "choices = [1, 2, 3, 4, 0]\n",
    "df['Label2'] = np.select(conditions, choices)\n",
    "\n",
    "\n",
    "# Innermost Label 0 tftp(1) 1 udp+ssdp(2) 2 ldap(3) 3 netport(4)\n",
    "# 4 syn(5) 5 mssql(6) 6 hulk(7) 7 rudy(8) 8 goldeneye(9) 9 httpbypass(13)\n",
    "conditions = [\n",
    "    (df[' Label'] == 1),\n",
    "    (df[' Label'] == 2),\n",
    "    (df[' Label'] == 3),\n",
    "    (df[' Label'] == 4),\n",
    "    (df[' Label'] == 5),\n",
    "    (df[' Label'] == 6),\n",
    "    (df[' Label'] == 7),\n",
    "    (df[' Label'] == 8),\n",
    "    (df[' Label'] == 9),\n",
    "    (df[' Label'] == 13),\n",
    "    (df[' Label'].isin([0,10,11,12]))\n",
    "]\n",
    "choices = [0,1,2,3,4,5,6,7,8,9,10]\n",
    "df['Label3'] = np.select(conditions, choices)"
   ]
  },
  {
   "cell_type": "markdown",
   "id": "7228e92f",
   "metadata": {},
   "source": [
    "# Layer 1 "
   ]
  },
  {
   "cell_type": "code",
   "execution_count": 4,
   "id": "2a1ec4d9",
   "metadata": {},
   "outputs": [],
   "source": [
    "X = df[[' Source Port', ' Destination Port', ' Protocol', ' Flow Duration',\n",
    "       ' Total Fwd Packets', ' Total Backward Packets',\n",
    "       'Total Length of Fwd Packets', ' Fwd Packet Length Min',\n",
    "       'Bwd Packet Length Max', ' Flow IAT Mean', ' Flow IAT Std',\n",
    "       ' Flow IAT Min', 'Fwd IAT Total', ' Fwd IAT Mean', ' Fwd IAT Min',\n",
    "       ' Fwd Header Length', ' Bwd Header Length', ' Bwd Packets/s',\n",
    "       ' Init_Win_bytes_backward', ' NFlow Packets/s']]\n",
    "y = df['Label1']"
   ]
  },
  {
   "cell_type": "code",
   "execution_count": 5,
   "id": "7ad164fc",
   "metadata": {},
   "outputs": [],
   "source": [
    "oversample = SMOTE()\n",
    "X,y = oversample.fit_resample(X,y)"
   ]
  },
  {
   "cell_type": "code",
   "execution_count": 6,
   "id": "eb40ecb4",
   "metadata": {},
   "outputs": [
    {
     "data": {
      "text/plain": [
       "Label1\n",
       "1    1838583\n",
       "0    1838583\n",
       "Name: count, dtype: int64"
      ]
     },
     "execution_count": 6,
     "metadata": {},
     "output_type": "execute_result"
    }
   ],
   "source": [
    "y.value_counts()"
   ]
  },
  {
   "cell_type": "code",
   "execution_count": 7,
   "id": "8df48eb8",
   "metadata": {},
   "outputs": [],
   "source": [
    "X_train,X_test,y_train,y_test = train_test_split(X,y,test_size=0.30, random_state=42)"
   ]
  },
  {
   "cell_type": "code",
   "execution_count": 8,
   "id": "65164769",
   "metadata": {},
   "outputs": [
    {
     "data": {
      "text/plain": [
       "Label1\n",
       "0    551770\n",
       "1    551380\n",
       "Name: count, dtype: int64"
      ]
     },
     "execution_count": 8,
     "metadata": {},
     "output_type": "execute_result"
    }
   ],
   "source": [
    "y_test.value_counts()"
   ]
  },
  {
   "cell_type": "code",
   "execution_count": 9,
   "id": "43e3a937",
   "metadata": {},
   "outputs": [
    {
     "name": "stderr",
     "output_type": "stream",
     "text": [
      "2023-04-29 10:42:37.933841: I tensorflow/compiler/xla/stream_executor/cuda/cuda_gpu_executor.cc:996] successful NUMA node read from SysFS had negative value (-1), but there must be at least one NUMA node, so returning NUMA node zero. See more at https://github.com/torvalds/linux/blob/v6.0/Documentation/ABI/testing/sysfs-bus-pci#L344-L355\n",
      "2023-04-29 10:42:37.934208: W tensorflow/core/common_runtime/gpu/gpu_device.cc:1956] Cannot dlopen some GPU libraries. Please make sure the missing libraries mentioned above are installed properly if you would like to use GPU. Follow the guide at https://www.tensorflow.org/install/gpu for how to download and setup the required libraries for your platform.\n",
      "Skipping registering GPU devices...\n",
      "2023-04-29 10:42:38.003608: W tensorflow/tsl/framework/cpu_allocator_impl.cc:83] Allocation of 205921280 exceeds 10% of free system memory.\n"
     ]
    }
   ],
   "source": [
    "normalizer1 = Normalization(axis=-1)\n",
    "normalizer1.adapt(np.array(X_train))"
   ]
  },
  {
   "cell_type": "code",
   "execution_count": 10,
   "id": "3508f475",
   "metadata": {},
   "outputs": [
    {
     "name": "stdout",
     "output_type": "stream",
     "text": [
      "Model: \"model1\"\n",
      "_________________________________________________________________\n",
      " Layer (type)                Output Shape              Param #   \n",
      "=================================================================\n",
      " input_1 (InputLayer)        [(None, 20)]              0         \n",
      "                                                                 \n",
      " normalization (Normalizatio  (None, 20)               41        \n",
      " n)                                                              \n",
      "                                                                 \n",
      " dense (Dense)               (None, 7)                 147       \n",
      "                                                                 \n",
      " dense_1 (Dense)             (None, 3)                 24        \n",
      "                                                                 \n",
      " dense_2 (Dense)             (None, 1)                 4         \n",
      "                                                                 \n",
      "=================================================================\n",
      "Total params: 216\n",
      "Trainable params: 175\n",
      "Non-trainable params: 41\n",
      "_________________________________________________________________\n"
     ]
    }
   ],
   "source": [
    "input_layer = Input(shape=(20,))\n",
    "normal1 = normalizer1(input_layer) \n",
    "layer11 = Dense(7,activation='relu')(normal1)\n",
    "layer12 = Dense(3,activation='relu')(layer11)\n",
    "output1 = Dense(1,activation='sigmoid')(layer12)\n",
    "\n",
    "model1 = Model(inputs = input_layer, outputs = output1, name = 'model1')\n",
    "model1.summary()"
   ]
  },
  {
   "cell_type": "code",
   "execution_count": 11,
   "id": "26b2133e",
   "metadata": {},
   "outputs": [
    {
     "name": "stdout",
     "output_type": "stream",
     "text": [
      "Epoch 1/20\n"
     ]
    },
    {
     "name": "stderr",
     "output_type": "stream",
     "text": [
      "2023-04-29 10:43:12.186902: W tensorflow/tsl/framework/cpu_allocator_impl.cc:83] Allocation of 288289760 exceeds 10% of free system memory.\n"
     ]
    },
    {
     "name": "stdout",
     "output_type": "stream",
     "text": [
      "181/181 [==============================] - 1s 5ms/step - loss: 0.5034 - accuracy: 0.8186 - val_loss: 0.4098 - val_accuracy: 0.8516\n",
      "Epoch 2/20\n",
      "  1/181 [..............................] - ETA: 0s - loss: 0.4192 - accuracy: 0.8450"
     ]
    },
    {
     "name": "stderr",
     "output_type": "stream",
     "text": [
      "2023-04-29 10:43:13.349518: W tensorflow/tsl/framework/cpu_allocator_impl.cc:83] Allocation of 123552800 exceeds 10% of free system memory.\n"
     ]
    },
    {
     "name": "stdout",
     "output_type": "stream",
     "text": [
      "181/181 [==============================] - 1s 3ms/step - loss: 0.3702 - accuracy: 0.8605 - val_loss: 0.3378 - val_accuracy: 0.8710\n",
      "Epoch 3/20\n",
      "181/181 [==============================] - 0s 3ms/step - loss: 0.3087 - accuracy: 0.8898 - val_loss: 0.2809 - val_accuracy: 0.9045\n",
      "Epoch 4/20\n",
      "181/181 [==============================] - 1s 3ms/step - loss: 0.2564 - accuracy: 0.9085 - val_loss: 0.2342 - val_accuracy: 0.9141\n",
      "Epoch 5/20\n",
      "181/181 [==============================] - 1s 3ms/step - loss: 0.2011 - accuracy: 0.9267 - val_loss: 0.1673 - val_accuracy: 0.9492\n",
      "Epoch 6/20\n",
      "181/181 [==============================] - 0s 3ms/step - loss: 0.1460 - accuracy: 0.9520 - val_loss: 0.1278 - val_accuracy: 0.9548\n",
      "Epoch 7/20\n",
      "181/181 [==============================] - 1s 3ms/step - loss: 0.1121 - accuracy: 0.9610 - val_loss: 0.0988 - val_accuracy: 0.9705\n",
      "Epoch 8/20\n",
      "181/181 [==============================] - 1s 3ms/step - loss: 0.0889 - accuracy: 0.9754 - val_loss: 0.0810 - val_accuracy: 0.9784\n",
      "Epoch 9/20\n",
      "181/181 [==============================] - 0s 3ms/step - loss: 0.0741 - accuracy: 0.9800 - val_loss: 0.0690 - val_accuracy: 0.9813\n",
      "Epoch 10/20\n",
      "181/181 [==============================] - 0s 3ms/step - loss: 0.0642 - accuracy: 0.9824 - val_loss: 0.0610 - val_accuracy: 0.9828\n",
      "Epoch 11/20\n",
      "181/181 [==============================] - 0s 3ms/step - loss: 0.0571 - accuracy: 0.9840 - val_loss: 0.0547 - val_accuracy: 0.9843\n",
      "Epoch 12/20\n",
      "181/181 [==============================] - 1s 3ms/step - loss: 0.0514 - accuracy: 0.9857 - val_loss: 0.0496 - val_accuracy: 0.9863\n",
      "Epoch 13/20\n",
      "181/181 [==============================] - 1s 3ms/step - loss: 0.0469 - accuracy: 0.9876 - val_loss: 0.0457 - val_accuracy: 0.9877\n",
      "Epoch 14/20\n",
      "181/181 [==============================] - 1s 3ms/step - loss: 0.0431 - accuracy: 0.9889 - val_loss: 0.0422 - val_accuracy: 0.9895\n",
      "Epoch 15/20\n",
      "181/181 [==============================] - 1s 3ms/step - loss: 0.0400 - accuracy: 0.9901 - val_loss: 0.0397 - val_accuracy: 0.9903\n",
      "Epoch 16/20\n",
      "181/181 [==============================] - 1s 3ms/step - loss: 0.0375 - accuracy: 0.9909 - val_loss: 0.0372 - val_accuracy: 0.9909\n",
      "Epoch 17/20\n",
      "181/181 [==============================] - 1s 3ms/step - loss: 0.0354 - accuracy: 0.9915 - val_loss: 0.0356 - val_accuracy: 0.9914\n",
      "Epoch 18/20\n",
      "181/181 [==============================] - 1s 3ms/step - loss: 0.0340 - accuracy: 0.9919 - val_loss: 0.0345 - val_accuracy: 0.9918\n",
      "Epoch 19/20\n",
      "181/181 [==============================] - 1s 3ms/step - loss: 0.0331 - accuracy: 0.9921 - val_loss: 0.0337 - val_accuracy: 0.9920\n",
      "Epoch 20/20\n",
      "181/181 [==============================] - 1s 3ms/step - loss: 0.0324 - accuracy: 0.9923 - val_loss: 0.0330 - val_accuracy: 0.9923\n"
     ]
    },
    {
     "data": {
      "text/plain": [
       "<keras.callbacks.History at 0x7f85df6c82d0>"
      ]
     },
     "execution_count": 11,
     "metadata": {},
     "output_type": "execute_result"
    }
   ],
   "source": [
    "model1.compile(optimizer='adam',loss='binary_crossentropy',metrics=['accuracy'])\n",
    "model1.fit(X_train,y_train,validation_split=0.3,epochs=20,verbose=1,batch_size=10000)"
   ]
  },
  {
   "cell_type": "code",
   "execution_count": 15,
   "id": "8bd1ef05",
   "metadata": {},
   "outputs": [
    {
     "name": "stdout",
     "output_type": "stream",
     "text": [
      "  244/34474 [..............................] - ETA: 14s "
     ]
    },
    {
     "name": "stderr",
     "output_type": "stream",
     "text": [
      "2023-04-29 10:47:37.497296: W tensorflow/tsl/framework/cpu_allocator_impl.cc:83] Allocation of 176504000 exceeds 10% of free system memory.\n"
     ]
    },
    {
     "name": "stdout",
     "output_type": "stream",
     "text": [
      "34474/34474 [==============================] - 13s 376us/step\n",
      "Layer 1 accuracy:  0.9924207949961474\n"
     ]
    }
   ],
   "source": [
    "from sklearn.metrics import accuracy_score\n",
    "import seaborn as sns\n",
    "\n",
    "layer1pred = model1.predict(X_test)\n",
    "\n",
    "\n",
    "n1 = []\n",
    "for i in range(len(layer1pred)):\n",
    "  if layer1pred[i] >= 0.5:\n",
    "    n1.append(1)\n",
    "  else:\n",
    "    n1.append(0)\n",
    "\n",
    "accuracylayer1 = accuracy_score(y_test, n1)\n",
    "\n",
    "print(\"Layer 1 accuracy: \",accuracylayer1)"
   ]
  },
  {
   "cell_type": "code",
   "execution_count": 13,
   "id": "1682eeb5",
   "metadata": {},
   "outputs": [],
   "source": [
    "model1.save('layer1.h5')"
   ]
  },
  {
   "cell_type": "markdown",
   "id": "302ea20d",
   "metadata": {},
   "source": [
    "# Layer 2"
   ]
  },
  {
   "cell_type": "code",
   "execution_count": 9,
   "id": "8be46118",
   "metadata": {},
   "outputs": [],
   "source": [
    "df2 = df[df[\"Label2\"] != 4]\n",
    "y = df2['Label2']\n",
    "X = df2[[' Source Port', ' Destination Port', ' Protocol', ' Flow Duration',\n",
    "       ' Total Fwd Packets', ' Total Backward Packets',\n",
    "       'Total Length of Fwd Packets', ' Fwd Packet Length Min',\n",
    "       'Bwd Packet Length Max', ' Flow IAT Mean', ' Flow IAT Std',\n",
    "       ' Flow IAT Min', 'Fwd IAT Total', ' Fwd IAT Mean', ' Fwd IAT Min',\n",
    "       ' Fwd Header Length', ' Bwd Header Length', ' Bwd Packets/s',\n",
    "       ' Init_Win_bytes_backward', ' NFlow Packets/s']]"
   ]
  },
  {
   "cell_type": "code",
   "execution_count": 10,
   "id": "393b2893",
   "metadata": {},
   "outputs": [],
   "source": [
    "oversample = SMOTE()\n",
    "X,y = oversample.fit_resample(X,y)"
   ]
  },
  {
   "cell_type": "code",
   "execution_count": 11,
   "id": "1769776a",
   "metadata": {},
   "outputs": [],
   "source": [
    "X_train,X_test,y_train,y_test = train_test_split(X,y,test_size=0.30, random_state=42)"
   ]
  },
  {
   "cell_type": "code",
   "execution_count": 12,
   "id": "f2ba9955",
   "metadata": {},
   "outputs": [
    {
     "data": {
      "text/plain": [
       "Label2\n",
       "3    534348\n",
       "0    533815\n",
       "1    533439\n",
       "2    533096\n",
       "Name: count, dtype: int64"
      ]
     },
     "execution_count": 12,
     "metadata": {},
     "output_type": "execute_result"
    }
   ],
   "source": [
    "y_test.value_counts()"
   ]
  },
  {
   "cell_type": "code",
   "execution_count": 13,
   "id": "b016d493",
   "metadata": {},
   "outputs": [],
   "source": [
    "#creating instance of one-hot-encoder\n",
    "encoder = OneHotEncoder(handle_unknown='ignore')\n",
    "#perform one-hot encoding on 'team' column \n",
    "encoding = pd.DataFrame(encoder.fit_transform(np.array(y_train).reshape(-1,1)).toarray())\n",
    "encoding_test = pd.DataFrame(encoder.fit_transform(np.array(y_test).reshape(-1,1)).toarray())"
   ]
  },
  {
   "cell_type": "code",
   "execution_count": 14,
   "id": "8923aacb",
   "metadata": {},
   "outputs": [
    {
     "name": "stderr",
     "output_type": "stream",
     "text": [
      "2023-04-29 10:56:55.168633: I tensorflow/compiler/xla/stream_executor/cuda/cuda_gpu_executor.cc:996] successful NUMA node read from SysFS had negative value (-1), but there must be at least one NUMA node, so returning NUMA node zero. See more at https://github.com/torvalds/linux/blob/v6.0/Documentation/ABI/testing/sysfs-bus-pci#L344-L355\n",
      "2023-04-29 10:56:55.169250: W tensorflow/core/common_runtime/gpu/gpu_device.cc:1956] Cannot dlopen some GPU libraries. Please make sure the missing libraries mentioned above are installed properly if you would like to use GPU. Follow the guide at https://www.tensorflow.org/install/gpu for how to download and setup the required libraries for your platform.\n",
      "Skipping registering GPU devices...\n",
      "2023-04-29 10:56:55.973508: W tensorflow/tsl/framework/cpu_allocator_impl.cc:83] Allocation of 398476960 exceeds 10% of free system memory.\n"
     ]
    }
   ],
   "source": [
    "normalizer2 = Normalization(axis=-1)\n",
    "normalizer2.adapt(np.array(X_train))"
   ]
  },
  {
   "cell_type": "code",
   "execution_count": 15,
   "id": "7d513d25",
   "metadata": {},
   "outputs": [
    {
     "name": "stdout",
     "output_type": "stream",
     "text": [
      "Model: \"model2\"\n",
      "_________________________________________________________________\n",
      " Layer (type)                Output Shape              Param #   \n",
      "=================================================================\n",
      " input_1 (InputLayer)        [(None, 20)]              0         \n",
      "                                                                 \n",
      " normalization (Normalizatio  (None, 20)               41        \n",
      " n)                                                              \n",
      "                                                                 \n",
      " dense (Dense)               (None, 6)                 126       \n",
      "                                                                 \n",
      " dense_1 (Dense)             (None, 4)                 28        \n",
      "                                                                 \n",
      " dense_2 (Dense)             (None, 4)                 20        \n",
      "                                                                 \n",
      "=================================================================\n",
      "Total params: 215\n",
      "Trainable params: 174\n",
      "Non-trainable params: 41\n",
      "_________________________________________________________________\n"
     ]
    }
   ],
   "source": [
    "input_layer = Input(shape=(20,))\n",
    "normal2 = normalizer2(input_layer)\n",
    "layer21 = Dense(6,activation='relu')(normal2)\n",
    "layer22 = Dense(4,activation='relu')(layer21)\n",
    "output2 = Dense(4,activation='softmax')(layer22)\n",
    "\n",
    "model2 = Model(inputs = input_layer, outputs = output2, name = 'model2')\n",
    "model2.summary()\n",
    "\n"
   ]
  },
  {
   "cell_type": "code",
   "execution_count": 19,
   "id": "8f3559ff",
   "metadata": {},
   "outputs": [
    {
     "name": "stdout",
     "output_type": "stream",
     "text": [
      "Epoch 1/20\n"
     ]
    },
    {
     "name": "stderr",
     "output_type": "stream",
     "text": [
      "2023-04-29 10:59:41.620639: W tensorflow/tsl/framework/cpu_allocator_impl.cc:83] Allocation of 796953920 exceeds 10% of free system memory.\n",
      "2023-04-29 10:59:42.052257: W tensorflow/tsl/framework/cpu_allocator_impl.cc:83] Allocation of 159390784 exceeds 10% of free system memory.\n"
     ]
    },
    {
     "name": "stdout",
     "output_type": "stream",
     "text": [
      "499/499 [==============================] - 3s 3ms/step - loss: 0.7653 - accuracy: 0.7859\n",
      "Epoch 2/20\n",
      "499/499 [==============================] - 2s 3ms/step - loss: 0.1907 - accuracy: 0.9523\n",
      "Epoch 3/20\n",
      "499/499 [==============================] - 2s 3ms/step - loss: 0.1021 - accuracy: 0.9706\n",
      "Epoch 4/20\n",
      "499/499 [==============================] - 2s 3ms/step - loss: 0.0738 - accuracy: 0.9833\n",
      "Epoch 5/20\n",
      "499/499 [==============================] - 2s 3ms/step - loss: 0.0587 - accuracy: 0.9854\n",
      "Epoch 6/20\n",
      "499/499 [==============================] - 2s 3ms/step - loss: 0.0496 - accuracy: 0.9875\n",
      "Epoch 7/20\n",
      "499/499 [==============================] - 2s 3ms/step - loss: 0.0420 - accuracy: 0.9906\n",
      "Epoch 8/20\n",
      "499/499 [==============================] - 2s 3ms/step - loss: 0.0374 - accuracy: 0.9921\n",
      "Epoch 9/20\n",
      "499/499 [==============================] - 2s 3ms/step - loss: 0.0337 - accuracy: 0.9936\n",
      "Epoch 10/20\n",
      "499/499 [==============================] - 2s 3ms/step - loss: 0.0297 - accuracy: 0.9943\n",
      "Epoch 11/20\n",
      "499/499 [==============================] - 2s 3ms/step - loss: 0.0280 - accuracy: 0.9947\n",
      "Epoch 12/20\n",
      "499/499 [==============================] - 2s 3ms/step - loss: 0.0269 - accuracy: 0.9949\n",
      "Epoch 13/20\n",
      "499/499 [==============================] - 2s 3ms/step - loss: 0.0261 - accuracy: 0.9950\n",
      "Epoch 14/20\n",
      "499/499 [==============================] - 2s 3ms/step - loss: 0.0255 - accuracy: 0.9951\n",
      "Epoch 15/20\n",
      "499/499 [==============================] - 2s 3ms/step - loss: 0.0251 - accuracy: 0.9952\n",
      "Epoch 16/20\n",
      "499/499 [==============================] - 2s 3ms/step - loss: 0.0246 - accuracy: 0.9953\n",
      "Epoch 17/20\n",
      "499/499 [==============================] - 2s 3ms/step - loss: 0.0243 - accuracy: 0.9953\n",
      "Epoch 18/20\n",
      "499/499 [==============================] - 2s 3ms/step - loss: 0.0239 - accuracy: 0.9955\n",
      "Epoch 19/20\n",
      "499/499 [==============================] - 2s 3ms/step - loss: 0.0236 - accuracy: 0.9956\n",
      "Epoch 20/20\n",
      "499/499 [==============================] - 1s 3ms/step - loss: 0.0233 - accuracy: 0.9956\n"
     ]
    },
    {
     "data": {
      "text/plain": [
       "<keras.callbacks.History at 0x7f7e682909d0>"
      ]
     },
     "execution_count": 19,
     "metadata": {},
     "output_type": "execute_result"
    }
   ],
   "source": [
    "model2.compile(optimizer='adam', \n",
    "          loss='categorical_crossentropy', \n",
    "          metrics=['accuracy'])\n",
    "  \n",
    "model2.fit(X_train,encoding,epochs=20,verbose=1,batch_size=10000)"
   ]
  },
  {
   "cell_type": "code",
   "execution_count": 23,
   "id": "aa99d0fa",
   "metadata": {},
   "outputs": [
    {
     "name": "stdout",
     "output_type": "stream",
     "text": [
      "66710/66710 [==============================] - 25s 381us/step\n",
      "Layer 2 accuracy:  0.9955811079600019\n"
     ]
    }
   ],
   "source": [
    "layer2pred = model2.predict(X_test)\n",
    "\n",
    "n2 = []\n",
    "for i in layer2pred:\n",
    "  i=list(i)\n",
    "  maxvalue=max(i)\n",
    "  n2.append(i.index(maxvalue))\n",
    "\n",
    "accuracylayer2 = accuracy_score(y_test, n2)\n",
    "\n",
    "print(\"Layer 2 accuracy: \",accuracylayer2)\n"
   ]
  },
  {
   "cell_type": "code",
   "execution_count": 21,
   "id": "4bd2624b",
   "metadata": {},
   "outputs": [],
   "source": [
    "model2.save('layer2.h5')"
   ]
  },
  {
   "cell_type": "markdown",
   "id": "00dbc397",
   "metadata": {},
   "source": [
    "# Layer 3"
   ]
  },
  {
   "cell_type": "code",
   "execution_count": 4,
   "id": "ce9698a2",
   "metadata": {},
   "outputs": [],
   "source": [
    "df3 = df[df[\"Label3\"] != 10]\n",
    "y3 = df3['Label3']\n",
    "X3 = df3[[' Source Port', ' Destination Port', ' Protocol', ' Flow Duration',\n",
    "       ' Total Fwd Packets', ' Total Backward Packets',\n",
    "       'Total Length of Fwd Packets', ' Fwd Packet Length Min',\n",
    "       'Bwd Packet Length Max', ' Flow IAT Mean', ' Flow IAT Std',\n",
    "       ' Flow IAT Min', 'Fwd IAT Total', ' Fwd IAT Mean', ' Fwd IAT Min',\n",
    "       ' Fwd Header Length', ' Bwd Header Length', ' Bwd Packets/s',\n",
    "       ' Init_Win_bytes_backward', ' NFlow Packets/s']]"
   ]
  },
  {
   "cell_type": "code",
   "execution_count": 5,
   "id": "d2ba0165",
   "metadata": {},
   "outputs": [],
   "source": [
    "oversample = SMOTE()\n",
    "X3,y3 = oversample.fit_resample(X3,y3)"
   ]
  },
  {
   "cell_type": "code",
   "execution_count": 6,
   "id": "0100b2c4",
   "metadata": {},
   "outputs": [],
   "source": [
    "X_train,X_test,y_train,y_test = train_test_split(X3,y3,test_size=0.30, random_state=42)"
   ]
  },
  {
   "cell_type": "code",
   "execution_count": 7,
   "id": "8796926a",
   "metadata": {},
   "outputs": [
    {
     "data": {
      "text/plain": [
       "Label3\n",
       "2    122206\n",
       "5    122132\n",
       "6    121867\n",
       "4    121731\n",
       "3    121697\n",
       "0    121599\n",
       "8    121573\n",
       "7    121489\n",
       "1    121331\n",
       "Name: count, dtype: int64"
      ]
     },
     "execution_count": 7,
     "metadata": {},
     "output_type": "execute_result"
    }
   ],
   "source": [
    "y_test.value_counts()"
   ]
  },
  {
   "cell_type": "code",
   "execution_count": 9,
   "id": "0714f73d",
   "metadata": {},
   "outputs": [],
   "source": [
    "#creating instance of one-hot-encoder\n",
    "encoder = OneHotEncoder(handle_unknown='ignore')\n",
    "#perform one-hot encoding on 'team' column \n",
    "encoding = pd.DataFrame(encoder.fit_transform(np.array(y_train).reshape(-1,1)).toarray())\n",
    "encoding_test = pd.DataFrame(encoder.fit_transform(np.array(y_test).reshape(-1,1)).toarray())"
   ]
  },
  {
   "cell_type": "code",
   "execution_count": 10,
   "id": "b83e29b4",
   "metadata": {},
   "outputs": [
    {
     "name": "stderr",
     "output_type": "stream",
     "text": [
      "2023-04-29 11:10:21.533251: I tensorflow/compiler/xla/stream_executor/cuda/cuda_gpu_executor.cc:996] successful NUMA node read from SysFS had negative value (-1), but there must be at least one NUMA node, so returning NUMA node zero. See more at https://github.com/torvalds/linux/blob/v6.0/Documentation/ABI/testing/sysfs-bus-pci#L344-L355\n",
      "2023-04-29 11:10:21.533577: W tensorflow/core/common_runtime/gpu/gpu_device.cc:1956] Cannot dlopen some GPU libraries. Please make sure the missing libraries mentioned above are installed properly if you would like to use GPU. Follow the guide at https://www.tensorflow.org/install/gpu for how to download and setup the required libraries for your platform.\n",
      "Skipping registering GPU devices...\n"
     ]
    },
    {
     "name": "stdout",
     "output_type": "stream",
     "text": [
      "Model: \"model3\"\n",
      "_________________________________________________________________\n",
      " Layer (type)                Output Shape              Param #   \n",
      "=================================================================\n",
      " input_1 (InputLayer)        [(None, 20)]              0         \n",
      "                                                                 \n",
      " normalization (Normalizatio  (None, 20)               41        \n",
      " n)                                                              \n",
      "                                                                 \n",
      " dense (Dense)               (None, 9)                 189       \n",
      "                                                                 \n",
      " dense_1 (Dense)             (None, 9)                 90        \n",
      "                                                                 \n",
      " dense_2 (Dense)             (None, 9)                 90        \n",
      "                                                                 \n",
      " dense_3 (Dense)             (None, 9)                 90        \n",
      "                                                                 \n",
      "=================================================================\n",
      "Total params: 500\n",
      "Trainable params: 459\n",
      "Non-trainable params: 41\n",
      "_________________________________________________________________\n",
      "Epoch 1/20\n"
     ]
    },
    {
     "name": "stderr",
     "output_type": "stream",
     "text": [
      "2023-04-29 11:10:45.814697: W tensorflow/tsl/framework/cpu_allocator_impl.cc:83] Allocation of 409033280 exceeds 10% of free system memory.\n"
     ]
    },
    {
     "name": "stdout",
     "output_type": "stream",
     "text": [
      "256/256 [==============================] - 2s 4ms/step - loss: 1.4829 - accuracy: 0.4432\n",
      "Epoch 2/20\n",
      "256/256 [==============================] - 1s 4ms/step - loss: 0.5571 - accuracy: 0.8515\n",
      "Epoch 3/20\n",
      "256/256 [==============================] - 1s 4ms/step - loss: 0.3300 - accuracy: 0.9063\n",
      "Epoch 4/20\n",
      "256/256 [==============================] - 1s 4ms/step - loss: 0.2350 - accuracy: 0.9270\n",
      "Epoch 5/20\n",
      "256/256 [==============================] - 1s 4ms/step - loss: 0.1905 - accuracy: 0.9395\n",
      "Epoch 6/20\n",
      "256/256 [==============================] - 1s 4ms/step - loss: 0.1655 - accuracy: 0.9475\n",
      "Epoch 7/20\n",
      "256/256 [==============================] - 1s 4ms/step - loss: 0.1474 - accuracy: 0.9541\n",
      "Epoch 8/20\n",
      "256/256 [==============================] - 1s 4ms/step - loss: 0.1315 - accuracy: 0.9604\n",
      "Epoch 9/20\n",
      "256/256 [==============================] - 1s 4ms/step - loss: 0.1188 - accuracy: 0.9643\n",
      "Epoch 10/20\n",
      "256/256 [==============================] - 1s 4ms/step - loss: 0.1081 - accuracy: 0.9676\n",
      "Epoch 11/20\n",
      "256/256 [==============================] - 1s 4ms/step - loss: 0.0998 - accuracy: 0.9708\n",
      "Epoch 12/20\n",
      "256/256 [==============================] - 1s 4ms/step - loss: 0.0935 - accuracy: 0.9732\n",
      "Epoch 13/20\n",
      "256/256 [==============================] - 1s 4ms/step - loss: 0.0881 - accuracy: 0.9758\n",
      "Epoch 14/20\n",
      "256/256 [==============================] - 1s 4ms/step - loss: 0.0833 - accuracy: 0.9784\n",
      "Epoch 15/20\n",
      "256/256 [==============================] - 1s 4ms/step - loss: 0.0792 - accuracy: 0.9803\n",
      "Epoch 16/20\n",
      "256/256 [==============================] - 1s 4ms/step - loss: 0.0756 - accuracy: 0.9820\n",
      "Epoch 17/20\n",
      "256/256 [==============================] - 1s 4ms/step - loss: 0.0727 - accuracy: 0.9831\n",
      "Epoch 18/20\n",
      "256/256 [==============================] - 1s 4ms/step - loss: 0.0700 - accuracy: 0.9842\n",
      "Epoch 19/20\n",
      "256/256 [==============================] - 1s 4ms/step - loss: 0.0676 - accuracy: 0.9851\n",
      "Epoch 20/20\n",
      "256/256 [==============================] - 1s 4ms/step - loss: 0.0656 - accuracy: 0.9856\n"
     ]
    },
    {
     "data": {
      "text/plain": [
       "<keras.callbacks.History at 0x7f09ae378e90>"
      ]
     },
     "execution_count": 10,
     "metadata": {},
     "output_type": "execute_result"
    }
   ],
   "source": [
    "\n",
    "\n",
    "normalizer3 = Normalization(axis=-1)\n",
    "normalizer3.adapt(np.array(X_train))\n",
    "\n",
    "\n",
    "\n",
    "\n",
    "input_layer = Input(shape=(20,))\n",
    "normal3 = normalizer3(input_layer)\n",
    "layer31 = Dense(9,activation='relu')(normal3)\n",
    "layer32 = Dense(9,activation='relu')(layer31)\n",
    "layer33 = Dense(9,activation='relu')(layer32)\n",
    "output3 = Dense(9,activation='softmax')(layer33)\n",
    "model3 = Model(inputs = input_layer, outputs = output3, name = 'model3')\n",
    "model3.summary()\n",
    "model3.compile(optimizer='adam', \n",
    "          loss='categorical_crossentropy', \n",
    "          metrics=['accuracy'])\n",
    "  \n",
    "model3.fit(X_train,encoding,epochs=20,verbose=1,batch_size=10000)\n",
    "\n",
    "\n"
   ]
  },
  {
   "cell_type": "code",
   "execution_count": 15,
   "id": "8d7964fb",
   "metadata": {},
   "outputs": [
    {
     "name": "stdout",
     "output_type": "stream",
     "text": [
      "34239/34239 [==============================] - 13s 382us/step\n",
      "Layer 3 accuracy:  0.9856867084997147\n"
     ]
    }
   ],
   "source": [
    "layer3pred = model3.predict(X_test)\n",
    "\n",
    "n3 = []\n",
    "for i in layer3pred:\n",
    "  i=list(i)\n",
    "  maxvalue=max(i)\n",
    "  n3.append(i.index(maxvalue))\n",
    "\n",
    "accuracylayer3 = accuracy_score(y_test, n3)\n",
    "\n",
    "print(\"Layer 3 accuracy: \", accuracylayer3)"
   ]
  },
  {
   "cell_type": "code",
   "execution_count": 14,
   "id": "cdd8d966",
   "metadata": {},
   "outputs": [],
   "source": [
    "model3.save('layer3.h5')"
   ]
  }
 ],
 "metadata": {
  "kernelspec": {
   "display_name": "Python 3.11.3 ('tf')",
   "language": "python",
   "name": "python3"
  },
  "language_info": {
   "codemirror_mode": {
    "name": "ipython",
    "version": 3
   },
   "file_extension": ".py",
   "mimetype": "text/x-python",
   "name": "python",
   "nbconvert_exporter": "python",
   "pygments_lexer": "ipython3",
   "version": "3.11.3"
  },
  "vscode": {
   "interpreter": {
    "hash": "4005e5b2a59c1ca276e737ea2055fdf5ea1a050be838265ae2a81bffa9bc7462"
   }
  }
 },
 "nbformat": 4,
 "nbformat_minor": 5
}
